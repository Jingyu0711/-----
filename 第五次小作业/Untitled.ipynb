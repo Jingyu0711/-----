{
 "cells": [
  {
   "cell_type": "markdown",
   "id": "e636ea9e",
   "metadata": {},
   "source": [
    "<u>接第二次作业鸢尾花数据集处理方法</u>"
   ]
  },
  {
   "cell_type": "code",
   "execution_count": null,
   "id": "d492041b",
   "metadata": {},
   "outputs": [],
   "source": [
    "from sklearn.neighbors import KNeighborsClassifier\n",
    "from sklearn.metrics import accuracy_score\n",
    "from sklearn import datasets\n",
    "from sklearn.model_selection import train_test_split\n",
    "from sklearn.preprocessing import StandardScaler\n",
    "from mlxtend.plotting import plot_decision_regions\n",
    "\n",
    "from matplotlib.colors import ListedColormap\n",
    "import matplotlib.pyplot as plt \n",
    "%matplotlib inline\n",
    "plt.rcParams['font.sans-serif'] = ['Microsoft YaHei'] # 替换sans-serif字体,用来正常显示中文标签,可选['SimHei']\n",
    "plt.rcParams['axes.unicode_minus'] = False  # 用来正常显示负号, 注意['SimHei']对应这句不行.\n",
    "#import seaborn as sns\n",
    "import numpy as np\n",
    "import pandas as pd"
   ]
  },
  {
   "cell_type": "code",
   "execution_count": null,
   "id": "5d27f061",
   "metadata": {},
   "outputs": [],
   "source": [
    "# 代码同第二次作业\n",
    "iris = datasets.load_iris() \n",
    "y = iris.target\n",
    "X = pd.DataFrame(data=iris.data[:, [2, 3]], columns=np.array(iris.feature_names)[[2,3]])\n",
    "X_train, X_test, y_train, y_test = train_test_split(X, y, test_size=0.3, random_state=0)\n",
    "\n",
    "sc = StandardScaler()  \n",
    "sc.fit(X_train)\n",
    "X_train_std = sc.transform(X_train)\n",
    "X_test_std = sc.transform(X_test)\n",
    "\n",
    "X_combined_std = np.vstack((X_train_std, X_test_std))   #shape是(150,2)\n",
    "y_combined = np.hstack((y_train, y_test))   #shape是(150,)\n",
    "\n",
    "def plot_decision_regions(X, y, classifier, test_idx=None, resolution=0.02):\n",
    "    #画决策边界,AX是特征，y是标签，classifier是分类器，test_idx是测试集序号\n",
    "    #设置标记生成器和彩色地图\n",
    "    markers = ('s', 'x', 'o', '^', 'v')\n",
    "    colors = ('red', 'blue', 'lightgreen', 'gray', 'cyan')\n",
    "    cmap = ListedColormap(colors[:len(np.unique(y))])\n",
    " \n",
    "    # plot the decision surface\n",
    "    x1_min, x1_max = X[:, 0].min() - 1, X[:, 0].max() + 1   #第一个特征取值范围作为横轴\n",
    "    x2_min, x2_max = X[:, 1].min() - 1, X[:, 1].max() + 1   #第二个特征取值范围作为纵轴\n",
    "    xx1, xx2 = np.meshgrid(np.arange(x1_min, x1_max, resolution),\n",
    "                           np.arange(x2_min, x2_max, resolution))  #reolution是网格剖分粒度，xx1和xx2数组维度一样\n",
    "    Z = classifier.predict(np.array([xx1.ravel(), xx2.ravel()]).T)   \n",
    "    #classifier指定分类器，ravel是数组展平；Z的作用是对组合的二种特征进行预测\n",
    "    Z = Z.reshape(xx1.shape)   #Z是列向量\n",
    "    plt.contourf(xx1, xx2, Z, alpha=0.4, cmap=cmap)  \n",
    "    #contourf(x,y,z)其中x和y为两个等长一维数组，z为二维数组，指定每一对xy所对应的z值。\n",
    "    #对等高线间的区域进行填充（使用不同的颜色）\n",
    "    plt.xlim(xx1.min(), xx1.max())\n",
    "    plt.ylim(xx2.min(), xx2.max())\n",
    " \n",
    "    for idx, cl in enumerate(np.unique(y)):\n",
    "        plt.scatter(x=X[y == cl, 0], y=X[y == cl, 1],\n",
    "                    alpha=0.8, c=[cmap(idx)],\n",
    "                    marker=markers[idx], label=cl)   #全数据集，不同类别样本点的特征作为坐标(x,y)，用不同颜色画散点图\n",
    " \n",
    "    # highlight test samples\n",
    "    if test_idx:\n",
    "        # plot all samples\n",
    "        X_test, y_test = X[test_idx, :], y[test_idx]   #X_test取测试集样本两列特征，y_test取测试集标签\n",
    " \n",
    "        plt.scatter(X_test[:, 0],\n",
    "                    X_test[:, 1],\n",
    "                    c='',\n",
    "                    alpha=1.0,\n",
    "                    linewidths=1,\n",
    "                    marker='o',\n",
    "                    edgecolors='black',\n",
    "                    s=55, label='test set')   #c设置颜色，测试集不同类别的实例点画图不区别颜色"
   ]
  },
  {
   "cell_type": "markdown",
   "id": "96dd6899",
   "metadata": {},
   "source": [
    "# 1. k-近邻"
   ]
  },
  {
   "cell_type": "code",
   "execution_count": null,
   "id": "212ceac2",
   "metadata": {},
   "outputs": [],
   "source": [
    "knn = KNeighborsClassifier(n_neighbors=5, p=2, metric='minkowski')\n",
    "# p是度量范数，metric='minkowski'距离度量标准2范数\n",
    "knn.fit(X_train_std, y_train)\n",
    "\n",
    "plot_decision_regions(X_combined_std, y_combined, classifier=knn, test_idx=range(105, 150))\n",
    "plt.xlabel('petal length [standardized]')\n",
    "plt.ylabel('petal width [standardized]')\n",
    "plt.legend(loc='upper left')\n",
    "plt.tight_layout()\n",
    "plt.show()"
   ]
  }
 ],
 "metadata": {
  "kernelspec": {
   "display_name": "Python 3",
   "language": "python",
   "name": "python3"
  },
  "language_info": {
   "codemirror_mode": {
    "name": "ipython",
    "version": 3
   },
   "file_extension": ".py",
   "mimetype": "text/x-python",
   "name": "python",
   "nbconvert_exporter": "python",
   "pygments_lexer": "ipython3",
   "version": "3.8.8"
  }
 },
 "nbformat": 4,
 "nbformat_minor": 5
}
