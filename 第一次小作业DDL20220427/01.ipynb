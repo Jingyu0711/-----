{
  "cells": [
    {
      "cell_type": "markdown",
      "metadata": {
        "id": "view-in-github",
        "colab_type": "text"
      },
      "source": [
        "<a href=\"https://colab.research.google.com/github/Jingyu0711/dasanxia-ML-assignments/blob/main/%E7%AC%AC%E4%B8%80%E6%AC%A1%E5%B0%8F%E4%BD%9C%E4%B8%9ADDL20220427/01.ipynb\" target=\"_parent\"><img src=\"https://colab.research.google.com/assets/colab-badge.svg\" alt=\"Open In Colab\"/></a>"
      ]
    },
    {
      "cell_type": "code",
      "execution_count": null,
      "id": "d03e7bdb",
      "metadata": {
        "id": "d03e7bdb"
      },
      "outputs": [],
      "source": [
        "import pandas as pd\n",
        "import numpy as np\n",
        "import seaborn as sns\n",
        "from sklearn.impute import SimpleImputer\n",
        "from sklearn.compose import ColumnTransformer\n",
        "from sklearn.model_selection import train_test_split,cross_val_score\n",
        "from sklearn.preprocessing import MinMaxScaler,LabelEncoder,StandardScaler,OneHotEncoder,scale"
      ]
    },
    {
      "cell_type": "code",
      "execution_count": null,
      "id": "b904a0cc",
      "metadata": {
        "id": "b904a0cc"
      },
      "outputs": [],
      "source": [
        "from IPython.core.interactiveshell import InteractiveShell #实现在同一个cell中输出多个结果\n",
        "InteractiveShell.ast_node_interactivity = \"all\"\n",
        "\n",
        "import matplotlib.pyplot as plt\n",
        "%matplotlib inline\n",
        "\n",
        "plt.rcParams['font.sans-serif'] = ['SimHei']  # 替换sans-serif字体\n",
        "plt.rcParams['axes.unicode_minus'] = False  # 解决坐标轴负数的负号显示问题"
      ]
    },
    {
      "cell_type": "markdown",
      "id": "beede81c",
      "metadata": {
        "id": "beede81c"
      },
      "source": [
        "### 创建数据集"
      ]
    },
    {
      "cell_type": "code",
      "execution_count": null,
      "id": "c1233e09",
      "metadata": {
        "id": "c1233e09",
        "outputId": "bd194b0f-d54e-43d3-a29c-60ac38b56167"
      },
      "outputs": [
        {
          "data": {
            "text/html": [
              "<div>\n",
              "<style scoped>\n",
              "    .dataframe tbody tr th:only-of-type {\n",
              "        vertical-align: middle;\n",
              "    }\n",
              "\n",
              "    .dataframe tbody tr th {\n",
              "        vertical-align: top;\n",
              "    }\n",
              "\n",
              "    .dataframe thead th {\n",
              "        text-align: right;\n",
              "    }\n",
              "</style>\n",
              "<table border=\"1\" class=\"dataframe\">\n",
              "  <thead>\n",
              "    <tr style=\"text-align: right;\">\n",
              "      <th></th>\n",
              "      <th>A</th>\n",
              "      <th>B</th>\n",
              "      <th>C</th>\n",
              "      <th>D</th>\n",
              "    </tr>\n",
              "  </thead>\n",
              "  <tbody>\n",
              "    <tr>\n",
              "      <th>0</th>\n",
              "      <td>1.0</td>\n",
              "      <td>2.0</td>\n",
              "      <td>3.0</td>\n",
              "      <td>4.0</td>\n",
              "    </tr>\n",
              "    <tr>\n",
              "      <th>1</th>\n",
              "      <td>5.0</td>\n",
              "      <td>6.0</td>\n",
              "      <td>NaN</td>\n",
              "      <td>8.0</td>\n",
              "    </tr>\n",
              "    <tr>\n",
              "      <th>2</th>\n",
              "      <td>10.0</td>\n",
              "      <td>11.0</td>\n",
              "      <td>12.0</td>\n",
              "      <td>NaN</td>\n",
              "    </tr>\n",
              "  </tbody>\n",
              "</table>\n",
              "</div>"
            ],
            "text/plain": [
              "      A     B     C    D\n",
              "0   1.0   2.0   3.0  4.0\n",
              "1   5.0   6.0   NaN  8.0\n",
              "2  10.0  11.0  12.0  NaN"
            ]
          },
          "execution_count": 3,
          "metadata": {},
          "output_type": "execute_result"
        }
      ],
      "source": [
        "df1=pd.DataFrame(\n",
        "    [[1.0,2.0,3.0,4.0],\n",
        "    [5.0,6.0,None,8.0],\n",
        "    [10.0,11.0,12.0,None,]],columns=['A','B','C','D']\n",
        ")\n",
        "df1"
      ]
    },
    {
      "cell_type": "code",
      "execution_count": null,
      "id": "801d2a00",
      "metadata": {
        "id": "801d2a00",
        "outputId": "b30ad2aa-53ee-4a3b-b921-d2484eac4e1b"
      },
      "outputs": [
        {
          "data": {
            "text/html": [
              "<div>\n",
              "<style scoped>\n",
              "    .dataframe tbody tr th:only-of-type {\n",
              "        vertical-align: middle;\n",
              "    }\n",
              "\n",
              "    .dataframe tbody tr th {\n",
              "        vertical-align: top;\n",
              "    }\n",
              "\n",
              "    .dataframe thead th {\n",
              "        text-align: right;\n",
              "    }\n",
              "</style>\n",
              "<table border=\"1\" class=\"dataframe\">\n",
              "  <thead>\n",
              "    <tr style=\"text-align: right;\">\n",
              "      <th></th>\n",
              "      <th>color</th>\n",
              "      <th>size</th>\n",
              "      <th>price</th>\n",
              "      <th>classlabel</th>\n",
              "    </tr>\n",
              "  </thead>\n",
              "  <tbody>\n",
              "    <tr>\n",
              "      <th>0</th>\n",
              "      <td>green</td>\n",
              "      <td>M</td>\n",
              "      <td>10.1</td>\n",
              "      <td>class1</td>\n",
              "    </tr>\n",
              "    <tr>\n",
              "      <th>1</th>\n",
              "      <td>red</td>\n",
              "      <td>L</td>\n",
              "      <td>13.5</td>\n",
              "      <td>class2</td>\n",
              "    </tr>\n",
              "    <tr>\n",
              "      <th>2</th>\n",
              "      <td>blue</td>\n",
              "      <td>XL</td>\n",
              "      <td>15.3</td>\n",
              "      <td>class1</td>\n",
              "    </tr>\n",
              "  </tbody>\n",
              "</table>\n",
              "</div>"
            ],
            "text/plain": [
              "   color size  price classlabel\n",
              "0  green    M   10.1     class1\n",
              "1    red    L   13.5     class2\n",
              "2   blue   XL   15.3     class1"
            ]
          },
          "execution_count": 4,
          "metadata": {},
          "output_type": "execute_result"
        }
      ],
      "source": [
        "df2=pd.DataFrame(\n",
        "    [['green','M',10.1,'class1'],\n",
        "    ['red','L',13.5,'class2'],\n",
        "    ['blue','XL',15.3,'class1']],columns=['color','size','price','classlabel']\n",
        ")\n",
        "df2"
      ]
    },
    {
      "cell_type": "markdown",
      "id": "0a85fd4a",
      "metadata": {
        "id": "0a85fd4a"
      },
      "source": [
        "# 1.处理异常值\n",
        "\n",
        "## 1.1用 Python 的 dropna 删除缺失数据"
      ]
    },
    {
      "cell_type": "code",
      "execution_count": null,
      "id": "a34435fe",
      "metadata": {
        "id": "a34435fe",
        "outputId": "ada8827b-118e-48f5-ab9e-db56e68d6609"
      },
      "outputs": [
        {
          "data": {
            "text/html": [
              "<div>\n",
              "<style scoped>\n",
              "    .dataframe tbody tr th:only-of-type {\n",
              "        vertical-align: middle;\n",
              "    }\n",
              "\n",
              "    .dataframe tbody tr th {\n",
              "        vertical-align: top;\n",
              "    }\n",
              "\n",
              "    .dataframe thead th {\n",
              "        text-align: right;\n",
              "    }\n",
              "</style>\n",
              "<table border=\"1\" class=\"dataframe\">\n",
              "  <thead>\n",
              "    <tr style=\"text-align: right;\">\n",
              "      <th></th>\n",
              "      <th>A</th>\n",
              "      <th>B</th>\n",
              "      <th>C</th>\n",
              "      <th>D</th>\n",
              "    </tr>\n",
              "  </thead>\n",
              "  <tbody>\n",
              "    <tr>\n",
              "      <th>0</th>\n",
              "      <td>1.0</td>\n",
              "      <td>2.0</td>\n",
              "      <td>3.0</td>\n",
              "      <td>4.0</td>\n",
              "    </tr>\n",
              "  </tbody>\n",
              "</table>\n",
              "</div>"
            ],
            "text/plain": [
              "     A    B    C    D\n",
              "0  1.0  2.0  3.0  4.0"
            ]
          },
          "execution_count": 5,
          "metadata": {},
          "output_type": "execute_result"
        }
      ],
      "source": [
        "df1.dropna(axis=0)"
      ]
    },
    {
      "cell_type": "code",
      "execution_count": null,
      "id": "58f963ad",
      "metadata": {
        "id": "58f963ad",
        "outputId": "86ad49a7-6dea-4af5-c35d-69623ff5dc2d"
      },
      "outputs": [
        {
          "data": {
            "text/html": [
              "<div>\n",
              "<style scoped>\n",
              "    .dataframe tbody tr th:only-of-type {\n",
              "        vertical-align: middle;\n",
              "    }\n",
              "\n",
              "    .dataframe tbody tr th {\n",
              "        vertical-align: top;\n",
              "    }\n",
              "\n",
              "    .dataframe thead th {\n",
              "        text-align: right;\n",
              "    }\n",
              "</style>\n",
              "<table border=\"1\" class=\"dataframe\">\n",
              "  <thead>\n",
              "    <tr style=\"text-align: right;\">\n",
              "      <th></th>\n",
              "      <th>A</th>\n",
              "      <th>B</th>\n",
              "    </tr>\n",
              "  </thead>\n",
              "  <tbody>\n",
              "    <tr>\n",
              "      <th>0</th>\n",
              "      <td>1.0</td>\n",
              "      <td>2.0</td>\n",
              "    </tr>\n",
              "    <tr>\n",
              "      <th>1</th>\n",
              "      <td>5.0</td>\n",
              "      <td>6.0</td>\n",
              "    </tr>\n",
              "    <tr>\n",
              "      <th>2</th>\n",
              "      <td>10.0</td>\n",
              "      <td>11.0</td>\n",
              "    </tr>\n",
              "  </tbody>\n",
              "</table>\n",
              "</div>"
            ],
            "text/plain": [
              "      A     B\n",
              "0   1.0   2.0\n",
              "1   5.0   6.0\n",
              "2  10.0  11.0"
            ]
          },
          "execution_count": 6,
          "metadata": {},
          "output_type": "execute_result"
        }
      ],
      "source": [
        "df1.dropna(axis=1)"
      ]
    },
    {
      "cell_type": "code",
      "execution_count": null,
      "id": "43eeb398",
      "metadata": {
        "id": "43eeb398",
        "outputId": "a4f6cb39-9dc8-4fb7-fb6b-79caaeaccef9"
      },
      "outputs": [
        {
          "data": {
            "text/html": [
              "<div>\n",
              "<style scoped>\n",
              "    .dataframe tbody tr th:only-of-type {\n",
              "        vertical-align: middle;\n",
              "    }\n",
              "\n",
              "    .dataframe tbody tr th {\n",
              "        vertical-align: top;\n",
              "    }\n",
              "\n",
              "    .dataframe thead th {\n",
              "        text-align: right;\n",
              "    }\n",
              "</style>\n",
              "<table border=\"1\" class=\"dataframe\">\n",
              "  <thead>\n",
              "    <tr style=\"text-align: right;\">\n",
              "      <th></th>\n",
              "      <th>A</th>\n",
              "      <th>B</th>\n",
              "      <th>C</th>\n",
              "      <th>D</th>\n",
              "    </tr>\n",
              "  </thead>\n",
              "  <tbody>\n",
              "    <tr>\n",
              "      <th>0</th>\n",
              "      <td>1.0</td>\n",
              "      <td>2.0</td>\n",
              "      <td>3.0</td>\n",
              "      <td>4.0</td>\n",
              "    </tr>\n",
              "    <tr>\n",
              "      <th>1</th>\n",
              "      <td>5.0</td>\n",
              "      <td>6.0</td>\n",
              "      <td>NaN</td>\n",
              "      <td>8.0</td>\n",
              "    </tr>\n",
              "    <tr>\n",
              "      <th>2</th>\n",
              "      <td>10.0</td>\n",
              "      <td>11.0</td>\n",
              "      <td>12.0</td>\n",
              "      <td>NaN</td>\n",
              "    </tr>\n",
              "  </tbody>\n",
              "</table>\n",
              "</div>"
            ],
            "text/plain": [
              "      A     B     C    D\n",
              "0   1.0   2.0   3.0  4.0\n",
              "1   5.0   6.0   NaN  8.0\n",
              "2  10.0  11.0  12.0  NaN"
            ]
          },
          "execution_count": 7,
          "metadata": {},
          "output_type": "execute_result"
        }
      ],
      "source": [
        "# 当一行里所有值都为空时\n",
        "df1.dropna(how='all')"
      ]
    },
    {
      "cell_type": "code",
      "execution_count": null,
      "id": "5b3084cd",
      "metadata": {
        "id": "5b3084cd",
        "outputId": "c0df5ae2-e1e2-46e2-9280-aefa3673381d"
      },
      "outputs": [
        {
          "data": {
            "text/html": [
              "<div>\n",
              "<style scoped>\n",
              "    .dataframe tbody tr th:only-of-type {\n",
              "        vertical-align: middle;\n",
              "    }\n",
              "\n",
              "    .dataframe tbody tr th {\n",
              "        vertical-align: top;\n",
              "    }\n",
              "\n",
              "    .dataframe thead th {\n",
              "        text-align: right;\n",
              "    }\n",
              "</style>\n",
              "<table border=\"1\" class=\"dataframe\">\n",
              "  <thead>\n",
              "    <tr style=\"text-align: right;\">\n",
              "      <th></th>\n",
              "      <th>A</th>\n",
              "      <th>B</th>\n",
              "      <th>C</th>\n",
              "      <th>D</th>\n",
              "    </tr>\n",
              "  </thead>\n",
              "  <tbody>\n",
              "    <tr>\n",
              "      <th>0</th>\n",
              "      <td>1.0</td>\n",
              "      <td>2.0</td>\n",
              "      <td>3.0</td>\n",
              "      <td>4.0</td>\n",
              "    </tr>\n",
              "  </tbody>\n",
              "</table>\n",
              "</div>"
            ],
            "text/plain": [
              "     A    B    C    D\n",
              "0  1.0  2.0  3.0  4.0"
            ]
          },
          "execution_count": 8,
          "metadata": {},
          "output_type": "execute_result"
        }
      ],
      "source": [
        "# 当一行里具体值小于4个时\n",
        "df1.dropna(thresh=4)"
      ]
    },
    {
      "cell_type": "code",
      "execution_count": null,
      "id": "09838526",
      "metadata": {
        "id": "09838526",
        "outputId": "e442a35e-b883-4d92-eb92-e25fa219cddf"
      },
      "outputs": [
        {
          "data": {
            "text/html": [
              "<div>\n",
              "<style scoped>\n",
              "    .dataframe tbody tr th:only-of-type {\n",
              "        vertical-align: middle;\n",
              "    }\n",
              "\n",
              "    .dataframe tbody tr th {\n",
              "        vertical-align: top;\n",
              "    }\n",
              "\n",
              "    .dataframe thead th {\n",
              "        text-align: right;\n",
              "    }\n",
              "</style>\n",
              "<table border=\"1\" class=\"dataframe\">\n",
              "  <thead>\n",
              "    <tr style=\"text-align: right;\">\n",
              "      <th></th>\n",
              "      <th>A</th>\n",
              "      <th>B</th>\n",
              "      <th>C</th>\n",
              "      <th>D</th>\n",
              "    </tr>\n",
              "  </thead>\n",
              "  <tbody>\n",
              "    <tr>\n",
              "      <th>0</th>\n",
              "      <td>1.0</td>\n",
              "      <td>2.0</td>\n",
              "      <td>3.0</td>\n",
              "      <td>4.0</td>\n",
              "    </tr>\n",
              "    <tr>\n",
              "      <th>2</th>\n",
              "      <td>10.0</td>\n",
              "      <td>11.0</td>\n",
              "      <td>12.0</td>\n",
              "      <td>NaN</td>\n",
              "    </tr>\n",
              "  </tbody>\n",
              "</table>\n",
              "</div>"
            ],
            "text/plain": [
              "      A     B     C    D\n",
              "0   1.0   2.0   3.0  4.0\n",
              "2  10.0  11.0  12.0  NaN"
            ]
          },
          "execution_count": 9,
          "metadata": {},
          "output_type": "execute_result"
        }
      ],
      "source": [
        "# 如果某列有空值，删除空值所在的这一行\n",
        "df1.dropna(subset=['C'])"
      ]
    },
    {
      "cell_type": "markdown",
      "id": "50934213",
      "metadata": {
        "id": "50934213"
      },
      "source": [
        "## 1.2用 sklearn 的 SimpleImputer 填补缺失数据"
      ]
    },
    {
      "cell_type": "code",
      "execution_count": null,
      "id": "2123f26f",
      "metadata": {
        "id": "2123f26f",
        "outputId": "2a5b1fe1-d93c-49d4-dc6f-9fec3e9a2513"
      },
      "outputs": [
        {
          "data": {
            "text/plain": [
              "array([[ 1. ,  2. ,  3. ,  4. ],\n",
              "       [ 5. ,  6. ,  7.5,  8. ],\n",
              "       [10. , 11. , 12. ,  6. ]])"
            ]
          },
          "execution_count": 10,
          "metadata": {},
          "output_type": "execute_result"
        }
      ],
      "source": [
        "# 中位数\n",
        "imputed_data = SimpleImputer(strategy='median').fit_transform(df1.values)\n",
        "imputed_data"
      ]
    },
    {
      "cell_type": "code",
      "execution_count": null,
      "id": "cbf5a7cf",
      "metadata": {
        "id": "cbf5a7cf",
        "outputId": "40b8b521-44a1-42a7-d224-a80f8bd67e7c"
      },
      "outputs": [
        {
          "data": {
            "text/plain": [
              "array([[ 1.,  2.,  3.,  4.],\n",
              "       [ 5.,  6.,  3.,  8.],\n",
              "       [10., 11., 12.,  4.]])"
            ]
          },
          "execution_count": 11,
          "metadata": {},
          "output_type": "execute_result"
        }
      ],
      "source": [
        "# 众数\n",
        "imputed_data = SimpleImputer(strategy='most_frequent').fit_transform(df1.values)\n",
        "imputed_data"
      ]
    },
    {
      "cell_type": "code",
      "execution_count": null,
      "id": "d58be5bf",
      "metadata": {
        "id": "d58be5bf",
        "outputId": "4a69ac99-f75f-4275-8f83-2a60f962969c"
      },
      "outputs": [
        {
          "data": {
            "text/plain": [
              "array([[ 1. ,  2. ,  3. ,  4. ],\n",
              "       [ 5. ,  6. ,  7.5,  8. ],\n",
              "       [10. , 11. , 12. ,  6. ]])"
            ]
          },
          "execution_count": 12,
          "metadata": {},
          "output_type": "execute_result"
        }
      ],
      "source": [
        "# 中值\n",
        "imputed_data = SimpleImputer(strategy='mean').fit_transform(df1.values)\n",
        "imputed_data"
      ]
    },
    {
      "cell_type": "markdown",
      "id": "c41f5502",
      "metadata": {
        "id": "c41f5502"
      },
      "source": [
        "# 2.特征转化\n",
        "\n",
        "## 2.1序数编码"
      ]
    },
    {
      "cell_type": "code",
      "execution_count": null,
      "id": "2c612c0a",
      "metadata": {
        "id": "2c612c0a",
        "outputId": "d6f247cc-91b2-4641-beda-1e1392a5e93f"
      },
      "outputs": [
        {
          "data": {
            "text/html": [
              "<div>\n",
              "<style scoped>\n",
              "    .dataframe tbody tr th:only-of-type {\n",
              "        vertical-align: middle;\n",
              "    }\n",
              "\n",
              "    .dataframe tbody tr th {\n",
              "        vertical-align: top;\n",
              "    }\n",
              "\n",
              "    .dataframe thead th {\n",
              "        text-align: right;\n",
              "    }\n",
              "</style>\n",
              "<table border=\"1\" class=\"dataframe\">\n",
              "  <thead>\n",
              "    <tr style=\"text-align: right;\">\n",
              "      <th></th>\n",
              "      <th>color</th>\n",
              "      <th>size</th>\n",
              "      <th>price</th>\n",
              "      <th>classlabel</th>\n",
              "    </tr>\n",
              "  </thead>\n",
              "  <tbody>\n",
              "    <tr>\n",
              "      <th>0</th>\n",
              "      <td>green</td>\n",
              "      <td>1</td>\n",
              "      <td>10.1</td>\n",
              "      <td>class1</td>\n",
              "    </tr>\n",
              "    <tr>\n",
              "      <th>1</th>\n",
              "      <td>red</td>\n",
              "      <td>2</td>\n",
              "      <td>13.5</td>\n",
              "      <td>class2</td>\n",
              "    </tr>\n",
              "    <tr>\n",
              "      <th>2</th>\n",
              "      <td>blue</td>\n",
              "      <td>3</td>\n",
              "      <td>15.3</td>\n",
              "      <td>class1</td>\n",
              "    </tr>\n",
              "  </tbody>\n",
              "</table>\n",
              "</div>"
            ],
            "text/plain": [
              "   color  size  price classlabel\n",
              "0  green     1   10.1     class1\n",
              "1    red     2   13.5     class2\n",
              "2   blue     3   15.3     class1"
            ]
          },
          "execution_count": 13,
          "metadata": {},
          "output_type": "execute_result"
        }
      ],
      "source": [
        "size_mapping = {\n",
        "    'XL':3,\n",
        "    'L':2,\n",
        "    'M':1,\n",
        "}\n",
        "df2['size'] = df2['size'].map(size_mapping)\n",
        "df2"
      ]
    },
    {
      "cell_type": "code",
      "execution_count": null,
      "id": "6132e18d",
      "metadata": {
        "id": "6132e18d",
        "outputId": "a3cbcc29-53ec-4e4a-9fcb-e000b5f2981f"
      },
      "outputs": [
        {
          "data": {
            "text/plain": [
              "0     M\n",
              "1     L\n",
              "2    XL\n",
              "Name: size, dtype: object"
            ]
          },
          "execution_count": 14,
          "metadata": {},
          "output_type": "execute_result"
        }
      ],
      "source": [
        "inv_size_mapping = {v:k for k,v in size_mapping.items()}\n",
        "df2['size'].map(inv_size_mapping)"
      ]
    },
    {
      "cell_type": "markdown",
      "id": "78d1938c",
      "metadata": {
        "id": "78d1938c"
      },
      "source": [
        "## 2.2独热编码"
      ]
    },
    {
      "cell_type": "markdown",
      "id": "24dd3b52",
      "metadata": {
        "id": "24dd3b52"
      },
      "source": [
        "### 方法一"
      ]
    },
    {
      "cell_type": "code",
      "execution_count": null,
      "id": "75c31883",
      "metadata": {
        "id": "75c31883",
        "outputId": "25b782e3-788f-4e18-c25d-21dfc317a8cd"
      },
      "outputs": [
        {
          "data": {
            "text/plain": [
              "array([['green', 1, 10.1],\n",
              "       ['red', 2, 13.5],\n",
              "       ['blue', 3, 15.3]], dtype=object)"
            ]
          },
          "execution_count": 15,
          "metadata": {},
          "output_type": "execute_result"
        }
      ],
      "source": [
        "x = df2[['color','size','price']].values\n",
        "x"
      ]
    },
    {
      "cell_type": "code",
      "execution_count": null,
      "id": "4540f250",
      "metadata": {
        "id": "4540f250",
        "outputId": "86a40109-5239-4258-b8fd-737592ab1c2d"
      },
      "outputs": [
        {
          "data": {
            "text/plain": [
              "array([[1, 1, 10.1],\n",
              "       [2, 2, 13.5],\n",
              "       [0, 3, 15.3]], dtype=object)"
            ]
          },
          "execution_count": 16,
          "metadata": {},
          "output_type": "execute_result"
        }
      ],
      "source": [
        "x[:,0] = LabelEncoder().fit_transform(x[:,0])\n",
        "x"
      ]
    },
    {
      "cell_type": "code",
      "execution_count": null,
      "id": "80471dcb",
      "metadata": {
        "id": "80471dcb",
        "outputId": "c131c4e7-4368-4f43-cc75-f3c4e0384299"
      },
      "outputs": [
        {
          "data": {
            "text/plain": [
              "array([[0.0, 1.0, 0.0, 1, 10.1],\n",
              "       [0.0, 0.0, 1.0, 2, 13.5],\n",
              "       [1.0, 0.0, 0.0, 3, 15.3]], dtype=object)"
            ]
          },
          "execution_count": 17,
          "metadata": {},
          "output_type": "execute_result"
        }
      ],
      "source": [
        "ct = ColumnTransformer([('color',OneHotEncoder(),[0])],remainder='passthrough')\n",
        "x = ct.fit_transform(x)\n",
        "x"
      ]
    },
    {
      "cell_type": "code",
      "execution_count": null,
      "id": "f0539d96",
      "metadata": {
        "id": "f0539d96",
        "outputId": "ae23326b-ce03-45cb-f2e1-3e0a359a89e1"
      },
      "outputs": [
        {
          "data": {
            "text/plain": [
              "\"\\n例：\\nX = [['Male', 1], ['Female', 3], ['Female', 2]]\\n\\nenc = OneHotEncoder(sparse=False).fit(X)\\nenc.transform([['Female', 1], ['Male', 2]])\\n#  drop the first column for each feature\\ndrop_enc = OneHotEncoder(drop='first',sparse=False).fit(X)\\ndrop_enc.transform([['Female', 1], ['Male', 2]])\\n# drop a column for feature only having 2 categories\\ndrop_binary_enc = OneHotEncoder(drop='if_binary',sparse=False).fit(X)\\ndrop_binary_enc.transform([['Female', 1], ['Male', 2]])\\n\""
            ]
          },
          "execution_count": 18,
          "metadata": {},
          "output_type": "execute_result"
        }
      ],
      "source": [
        "'''\n",
        "例：\n",
        "X = [['Male', 1], ['Female', 3], ['Female', 2]]\n",
        "\n",
        "enc = OneHotEncoder(sparse=False).fit(X)\n",
        "enc.transform([['Female', 1], ['Male', 2]])\n",
        "#  drop the first column for each feature\n",
        "drop_enc = OneHotEncoder(drop='first',sparse=False).fit(X)\n",
        "drop_enc.transform([['Female', 1], ['Male', 2]])\n",
        "# drop a column for feature only having 2 categories\n",
        "drop_binary_enc = OneHotEncoder(drop='if_binary',sparse=False).fit(X)\n",
        "drop_binary_enc.transform([['Female', 1], ['Male', 2]])\n",
        "'''"
      ]
    },
    {
      "cell_type": "markdown",
      "id": "8e4a65d9",
      "metadata": {
        "id": "8e4a65d9"
      },
      "source": [
        "### 方法二"
      ]
    },
    {
      "cell_type": "code",
      "execution_count": null,
      "id": "bb25f395",
      "metadata": {
        "id": "bb25f395",
        "outputId": "2f22cf20-1e48-4c96-c5c0-e9a9916c9dfe"
      },
      "outputs": [
        {
          "data": {
            "text/html": [
              "<div>\n",
              "<style scoped>\n",
              "    .dataframe tbody tr th:only-of-type {\n",
              "        vertical-align: middle;\n",
              "    }\n",
              "\n",
              "    .dataframe tbody tr th {\n",
              "        vertical-align: top;\n",
              "    }\n",
              "\n",
              "    .dataframe thead th {\n",
              "        text-align: right;\n",
              "    }\n",
              "</style>\n",
              "<table border=\"1\" class=\"dataframe\">\n",
              "  <thead>\n",
              "    <tr style=\"text-align: right;\">\n",
              "      <th></th>\n",
              "      <th>price</th>\n",
              "      <th>size</th>\n",
              "      <th>color_blue</th>\n",
              "      <th>color_green</th>\n",
              "      <th>color_red</th>\n",
              "    </tr>\n",
              "  </thead>\n",
              "  <tbody>\n",
              "    <tr>\n",
              "      <th>0</th>\n",
              "      <td>10.1</td>\n",
              "      <td>1</td>\n",
              "      <td>0</td>\n",
              "      <td>1</td>\n",
              "      <td>0</td>\n",
              "    </tr>\n",
              "    <tr>\n",
              "      <th>1</th>\n",
              "      <td>13.5</td>\n",
              "      <td>2</td>\n",
              "      <td>0</td>\n",
              "      <td>0</td>\n",
              "      <td>1</td>\n",
              "    </tr>\n",
              "    <tr>\n",
              "      <th>2</th>\n",
              "      <td>15.3</td>\n",
              "      <td>3</td>\n",
              "      <td>1</td>\n",
              "      <td>0</td>\n",
              "      <td>0</td>\n",
              "    </tr>\n",
              "  </tbody>\n",
              "</table>\n",
              "</div>"
            ],
            "text/plain": [
              "   price  size  color_blue  color_green  color_red\n",
              "0   10.1     1           0            1          0\n",
              "1   13.5     2           0            0          1\n",
              "2   15.3     3           1            0          0"
            ]
          },
          "execution_count": 19,
          "metadata": {},
          "output_type": "execute_result"
        }
      ],
      "source": [
        "pd.get_dummies(df2[['price','color','size']])"
      ]
    },
    {
      "cell_type": "markdown",
      "id": "06920328",
      "metadata": {
        "id": "06920328"
      },
      "source": [
        "# 3.特征缩放\n",
        "\n",
        "原因：\n",
        "1、数量级的差异将导致量级较大的属性占据主导地位\n",
        "2、数量级的差异将导致迭代收敛速度减慢\n",
        "3、依赖于样本距离的算法对于数据的数量级非常敏感\n",
        "\n",
        "好处：\n",
        "1、提升模型的精度：在机器学习算法的目标函数中使用的许多元素（例如支持向量机的 RBF 内核或线性模型的 l1 和 l2 正则化)，都是假设所有的特征都是零均值并且具有同一阶级上的方差。如果某个特征的方差比其他特征大几个数量级，那么它就会在学习算法中占据主导位置，导致学习器并不能像我们期望的那样从其他特征中学习\n",
        "2、提升收敛速度：对于线性模型来说，数据归一化后，寻找最优解的过程明显会变得平缓，更容易正确地收敛到最优解\n",
        "\n",
        "一般而言，决策树类算法不需要预处理数值特征。\n",
        "\n",
        "适用场景：\n",
        "基于距离的算法;算法用到了梯度下降。"
      ]
    },
    {
      "cell_type": "markdown",
      "id": "f34dc885",
      "metadata": {
        "id": "f34dc885"
      },
      "source": [
        "[API：sklearn.preprocessing](https://scikit-learn.org/stable/modules/classes.html#module-sklearn.preprocessing)"
      ]
    },
    {
      "cell_type": "markdown",
      "id": "f106ac4f",
      "metadata": {
        "id": "f106ac4f"
      },
      "source": [
        "[对红酒数据集进行特征缩放](https://so.csdn.net/so/search?spm=1001.2101.3001.4498&q=%E5%AF%B9%E7%BA%A2%E9%85%92%E6%95%B0%E6%8D%AE%E9%9B%86%E8%BF%9B%E8%A1%8C%E7%89%B9%E5%BE%81%E7%BC%A9%E6%94%BE&t=&u=)\n",
        "\n",
        "[案例：红酒数据集分析](https://blog.csdn.net/qq_42374697/article/details/108073110?ops_request_misc=%257B%2522request%255Fid%2522%253A%2522165094654716781667865966%2522%252C%2522scm%2522%253A%252220140713.130102334.pc%255Fall.%2522%257D&request_id=165094654716781667865966&biz_id=0&utm_medium=distribute.pc_search_result.none-task-blog-2~all~first_rank_ecpm_v1~rank_v31_ecpm-4-108073110.142^v9^pc_search_result_control_group,157^v4^control&utm_term=%E7%BA%A2%E9%85%92%E6%95%B0%E6%8D%AE%E9%9B%86%E7%95%99%E5%87%BA%E6%B3%95%E5%88%92%E5%88%86%E6%95%B0%E6%8D%AE%E9%9B%86&spm=1018.2226.3001.4187)"
      ]
    },
    {
      "cell_type": "markdown",
      "id": "75bfc729",
      "metadata": {
        "id": "75bfc729"
      },
      "source": [
        "### 用pandas的read_csv加载.data数据集"
      ]
    },
    {
      "cell_type": "code",
      "execution_count": null,
      "id": "e147c6c9",
      "metadata": {
        "id": "e147c6c9",
        "outputId": "df175406-3dec-4977-b38b-193fc4186c9c"
      },
      "outputs": [
        {
          "data": {
            "text/html": [
              "<div>\n",
              "<style scoped>\n",
              "    .dataframe tbody tr th:only-of-type {\n",
              "        vertical-align: middle;\n",
              "    }\n",
              "\n",
              "    .dataframe tbody tr th {\n",
              "        vertical-align: top;\n",
              "    }\n",
              "\n",
              "    .dataframe thead th {\n",
              "        text-align: right;\n",
              "    }\n",
              "</style>\n",
              "<table border=\"1\" class=\"dataframe\">\n",
              "  <thead>\n",
              "    <tr style=\"text-align: right;\">\n",
              "      <th></th>\n",
              "      <th>Class label</th>\n",
              "      <th>Alcohol</th>\n",
              "      <th>Malic acid</th>\n",
              "      <th>Ash</th>\n",
              "      <th>Alcalinity of ash</th>\n",
              "      <th>Magnesium</th>\n",
              "      <th>Total phenols</th>\n",
              "      <th>Flavanoids</th>\n",
              "      <th>Nonflavanoid phenols</th>\n",
              "      <th>Proanthocyanins</th>\n",
              "      <th>Color intensity</th>\n",
              "      <th>Hue</th>\n",
              "      <th>OD280/OD315 of diluted wines</th>\n",
              "      <th>Proline</th>\n",
              "    </tr>\n",
              "  </thead>\n",
              "  <tbody>\n",
              "    <tr>\n",
              "      <th>0</th>\n",
              "      <td>1</td>\n",
              "      <td>14.23</td>\n",
              "      <td>1.71</td>\n",
              "      <td>2.43</td>\n",
              "      <td>15.6</td>\n",
              "      <td>127</td>\n",
              "      <td>2.80</td>\n",
              "      <td>3.06</td>\n",
              "      <td>0.28</td>\n",
              "      <td>2.29</td>\n",
              "      <td>5.64</td>\n",
              "      <td>1.04</td>\n",
              "      <td>3.92</td>\n",
              "      <td>1065</td>\n",
              "    </tr>\n",
              "    <tr>\n",
              "      <th>1</th>\n",
              "      <td>1</td>\n",
              "      <td>13.20</td>\n",
              "      <td>1.78</td>\n",
              "      <td>2.14</td>\n",
              "      <td>11.2</td>\n",
              "      <td>100</td>\n",
              "      <td>2.65</td>\n",
              "      <td>2.76</td>\n",
              "      <td>0.26</td>\n",
              "      <td>1.28</td>\n",
              "      <td>4.38</td>\n",
              "      <td>1.05</td>\n",
              "      <td>3.40</td>\n",
              "      <td>1050</td>\n",
              "    </tr>\n",
              "    <tr>\n",
              "      <th>2</th>\n",
              "      <td>1</td>\n",
              "      <td>13.16</td>\n",
              "      <td>2.36</td>\n",
              "      <td>2.67</td>\n",
              "      <td>18.6</td>\n",
              "      <td>101</td>\n",
              "      <td>2.80</td>\n",
              "      <td>3.24</td>\n",
              "      <td>0.30</td>\n",
              "      <td>2.81</td>\n",
              "      <td>5.68</td>\n",
              "      <td>1.03</td>\n",
              "      <td>3.17</td>\n",
              "      <td>1185</td>\n",
              "    </tr>\n",
              "    <tr>\n",
              "      <th>3</th>\n",
              "      <td>1</td>\n",
              "      <td>14.37</td>\n",
              "      <td>1.95</td>\n",
              "      <td>2.50</td>\n",
              "      <td>16.8</td>\n",
              "      <td>113</td>\n",
              "      <td>3.85</td>\n",
              "      <td>3.49</td>\n",
              "      <td>0.24</td>\n",
              "      <td>2.18</td>\n",
              "      <td>7.80</td>\n",
              "      <td>0.86</td>\n",
              "      <td>3.45</td>\n",
              "      <td>1480</td>\n",
              "    </tr>\n",
              "    <tr>\n",
              "      <th>4</th>\n",
              "      <td>1</td>\n",
              "      <td>13.24</td>\n",
              "      <td>2.59</td>\n",
              "      <td>2.87</td>\n",
              "      <td>21.0</td>\n",
              "      <td>118</td>\n",
              "      <td>2.80</td>\n",
              "      <td>2.69</td>\n",
              "      <td>0.39</td>\n",
              "      <td>1.82</td>\n",
              "      <td>4.32</td>\n",
              "      <td>1.04</td>\n",
              "      <td>2.93</td>\n",
              "      <td>735</td>\n",
              "    </tr>\n",
              "  </tbody>\n",
              "</table>\n",
              "</div>"
            ],
            "text/plain": [
              "   Class label  Alcohol  Malic acid   Ash  Alcalinity of ash  Magnesium  \\\n",
              "0            1    14.23        1.71  2.43               15.6        127   \n",
              "1            1    13.20        1.78  2.14               11.2        100   \n",
              "2            1    13.16        2.36  2.67               18.6        101   \n",
              "3            1    14.37        1.95  2.50               16.8        113   \n",
              "4            1    13.24        2.59  2.87               21.0        118   \n",
              "\n",
              "   Total phenols  Flavanoids  Nonflavanoid phenols  Proanthocyanins  \\\n",
              "0           2.80        3.06                  0.28             2.29   \n",
              "1           2.65        2.76                  0.26             1.28   \n",
              "2           2.80        3.24                  0.30             2.81   \n",
              "3           3.85        3.49                  0.24             2.18   \n",
              "4           2.80        2.69                  0.39             1.82   \n",
              "\n",
              "   Color intensity   Hue  OD280/OD315 of diluted wines  Proline  \n",
              "0             5.64  1.04                          3.92     1065  \n",
              "1             4.38  1.05                          3.40     1050  \n",
              "2             5.68  1.03                          3.17     1185  \n",
              "3             7.80  0.86                          3.45     1480  \n",
              "4             4.32  1.04                          2.93      735  "
            ]
          },
          "execution_count": 20,
          "metadata": {},
          "output_type": "execute_result"
        }
      ],
      "source": [
        "df3 = pd.read_csv('wine.data',header=None)\n",
        "# 酒精、苹果酸、灰、灰的碱度、镁、总酚、黄酮类化合物、\n",
        "# 非黄烷类酚类、原花青素、色彩强度、色调、稀释酒OD280/OD315、脯氨酸\n",
        "df3.columns = ['Class label','Alcohol',\n",
        "               'Malic acid','Ash',\n",
        "               'Alcalinity of ash','Magnesium',\n",
        "               'Total phenols','Flavanoids',\n",
        "               'Nonflavanoid phenols','Proanthocyanins',\n",
        "               'Color intensity','Hue',\n",
        "               'OD280/OD315 of diluted wines','Proline']\n",
        "df3.head()"
      ]
    },
    {
      "cell_type": "code",
      "execution_count": null,
      "id": "2584c448",
      "metadata": {
        "id": "2584c448",
        "outputId": "fe3a32fa-1a1b-4fd4-d687-172b03ee0fd6"
      },
      "outputs": [
        {
          "name": "stdout",
          "output_type": "stream",
          "text": [
            "<class 'pandas.core.frame.DataFrame'>\n",
            "RangeIndex: 178 entries, 0 to 177\n",
            "Data columns (total 14 columns):\n",
            " #   Column                        Non-Null Count  Dtype  \n",
            "---  ------                        --------------  -----  \n",
            " 0   Class label                   178 non-null    int64  \n",
            " 1   Alcohol                       178 non-null    float64\n",
            " 2   Malic acid                    178 non-null    float64\n",
            " 3   Ash                           178 non-null    float64\n",
            " 4   Alcalinity of ash             178 non-null    float64\n",
            " 5   Magnesium                     178 non-null    int64  \n",
            " 6   Total phenols                 178 non-null    float64\n",
            " 7   Flavanoids                    178 non-null    float64\n",
            " 8   Nonflavanoid phenols          178 non-null    float64\n",
            " 9   Proanthocyanins               178 non-null    float64\n",
            " 10  Color intensity               178 non-null    float64\n",
            " 11  Hue                           178 non-null    float64\n",
            " 12  OD280/OD315 of diluted wines  178 non-null    float64\n",
            " 13  Proline                       178 non-null    int64  \n",
            "dtypes: float64(11), int64(3)\n",
            "memory usage: 19.6 KB\n"
          ]
        },
        {
          "data": {
            "text/html": [
              "<div>\n",
              "<style scoped>\n",
              "    .dataframe tbody tr th:only-of-type {\n",
              "        vertical-align: middle;\n",
              "    }\n",
              "\n",
              "    .dataframe tbody tr th {\n",
              "        vertical-align: top;\n",
              "    }\n",
              "\n",
              "    .dataframe thead th {\n",
              "        text-align: right;\n",
              "    }\n",
              "</style>\n",
              "<table border=\"1\" class=\"dataframe\">\n",
              "  <thead>\n",
              "    <tr style=\"text-align: right;\">\n",
              "      <th></th>\n",
              "      <th>count</th>\n",
              "      <th>mean</th>\n",
              "      <th>std</th>\n",
              "      <th>min</th>\n",
              "      <th>25%</th>\n",
              "      <th>50%</th>\n",
              "      <th>75%</th>\n",
              "      <th>max</th>\n",
              "    </tr>\n",
              "  </thead>\n",
              "  <tbody>\n",
              "    <tr>\n",
              "      <th>Class label</th>\n",
              "      <td>178.0</td>\n",
              "      <td>1.938202</td>\n",
              "      <td>0.775035</td>\n",
              "      <td>1.00</td>\n",
              "      <td>1.0000</td>\n",
              "      <td>2.000</td>\n",
              "      <td>3.0000</td>\n",
              "      <td>3.00</td>\n",
              "    </tr>\n",
              "    <tr>\n",
              "      <th>Alcohol</th>\n",
              "      <td>178.0</td>\n",
              "      <td>13.000618</td>\n",
              "      <td>0.811827</td>\n",
              "      <td>11.03</td>\n",
              "      <td>12.3625</td>\n",
              "      <td>13.050</td>\n",
              "      <td>13.6775</td>\n",
              "      <td>14.83</td>\n",
              "    </tr>\n",
              "    <tr>\n",
              "      <th>Malic acid</th>\n",
              "      <td>178.0</td>\n",
              "      <td>2.336348</td>\n",
              "      <td>1.117146</td>\n",
              "      <td>0.74</td>\n",
              "      <td>1.6025</td>\n",
              "      <td>1.865</td>\n",
              "      <td>3.0825</td>\n",
              "      <td>5.80</td>\n",
              "    </tr>\n",
              "    <tr>\n",
              "      <th>Ash</th>\n",
              "      <td>178.0</td>\n",
              "      <td>2.366517</td>\n",
              "      <td>0.274344</td>\n",
              "      <td>1.36</td>\n",
              "      <td>2.2100</td>\n",
              "      <td>2.360</td>\n",
              "      <td>2.5575</td>\n",
              "      <td>3.23</td>\n",
              "    </tr>\n",
              "    <tr>\n",
              "      <th>Alcalinity of ash</th>\n",
              "      <td>178.0</td>\n",
              "      <td>19.494944</td>\n",
              "      <td>3.339564</td>\n",
              "      <td>10.60</td>\n",
              "      <td>17.2000</td>\n",
              "      <td>19.500</td>\n",
              "      <td>21.5000</td>\n",
              "      <td>30.00</td>\n",
              "    </tr>\n",
              "    <tr>\n",
              "      <th>Magnesium</th>\n",
              "      <td>178.0</td>\n",
              "      <td>99.741573</td>\n",
              "      <td>14.282484</td>\n",
              "      <td>70.00</td>\n",
              "      <td>88.0000</td>\n",
              "      <td>98.000</td>\n",
              "      <td>107.0000</td>\n",
              "      <td>162.00</td>\n",
              "    </tr>\n",
              "    <tr>\n",
              "      <th>Total phenols</th>\n",
              "      <td>178.0</td>\n",
              "      <td>2.295112</td>\n",
              "      <td>0.625851</td>\n",
              "      <td>0.98</td>\n",
              "      <td>1.7425</td>\n",
              "      <td>2.355</td>\n",
              "      <td>2.8000</td>\n",
              "      <td>3.88</td>\n",
              "    </tr>\n",
              "    <tr>\n",
              "      <th>Flavanoids</th>\n",
              "      <td>178.0</td>\n",
              "      <td>2.029270</td>\n",
              "      <td>0.998859</td>\n",
              "      <td>0.34</td>\n",
              "      <td>1.2050</td>\n",
              "      <td>2.135</td>\n",
              "      <td>2.8750</td>\n",
              "      <td>5.08</td>\n",
              "    </tr>\n",
              "    <tr>\n",
              "      <th>Nonflavanoid phenols</th>\n",
              "      <td>178.0</td>\n",
              "      <td>0.361854</td>\n",
              "      <td>0.124453</td>\n",
              "      <td>0.13</td>\n",
              "      <td>0.2700</td>\n",
              "      <td>0.340</td>\n",
              "      <td>0.4375</td>\n",
              "      <td>0.66</td>\n",
              "    </tr>\n",
              "    <tr>\n",
              "      <th>Proanthocyanins</th>\n",
              "      <td>178.0</td>\n",
              "      <td>1.590899</td>\n",
              "      <td>0.572359</td>\n",
              "      <td>0.41</td>\n",
              "      <td>1.2500</td>\n",
              "      <td>1.555</td>\n",
              "      <td>1.9500</td>\n",
              "      <td>3.58</td>\n",
              "    </tr>\n",
              "    <tr>\n",
              "      <th>Color intensity</th>\n",
              "      <td>178.0</td>\n",
              "      <td>5.058090</td>\n",
              "      <td>2.318286</td>\n",
              "      <td>1.28</td>\n",
              "      <td>3.2200</td>\n",
              "      <td>4.690</td>\n",
              "      <td>6.2000</td>\n",
              "      <td>13.00</td>\n",
              "    </tr>\n",
              "    <tr>\n",
              "      <th>Hue</th>\n",
              "      <td>178.0</td>\n",
              "      <td>0.957449</td>\n",
              "      <td>0.228572</td>\n",
              "      <td>0.48</td>\n",
              "      <td>0.7825</td>\n",
              "      <td>0.965</td>\n",
              "      <td>1.1200</td>\n",
              "      <td>1.71</td>\n",
              "    </tr>\n",
              "    <tr>\n",
              "      <th>OD280/OD315 of diluted wines</th>\n",
              "      <td>178.0</td>\n",
              "      <td>2.611685</td>\n",
              "      <td>0.709990</td>\n",
              "      <td>1.27</td>\n",
              "      <td>1.9375</td>\n",
              "      <td>2.780</td>\n",
              "      <td>3.1700</td>\n",
              "      <td>4.00</td>\n",
              "    </tr>\n",
              "    <tr>\n",
              "      <th>Proline</th>\n",
              "      <td>178.0</td>\n",
              "      <td>746.893258</td>\n",
              "      <td>314.907474</td>\n",
              "      <td>278.00</td>\n",
              "      <td>500.5000</td>\n",
              "      <td>673.500</td>\n",
              "      <td>985.0000</td>\n",
              "      <td>1680.00</td>\n",
              "    </tr>\n",
              "  </tbody>\n",
              "</table>\n",
              "</div>"
            ],
            "text/plain": [
              "                              count        mean         std     min       25%  \\\n",
              "Class label                   178.0    1.938202    0.775035    1.00    1.0000   \n",
              "Alcohol                       178.0   13.000618    0.811827   11.03   12.3625   \n",
              "Malic acid                    178.0    2.336348    1.117146    0.74    1.6025   \n",
              "Ash                           178.0    2.366517    0.274344    1.36    2.2100   \n",
              "Alcalinity of ash             178.0   19.494944    3.339564   10.60   17.2000   \n",
              "Magnesium                     178.0   99.741573   14.282484   70.00   88.0000   \n",
              "Total phenols                 178.0    2.295112    0.625851    0.98    1.7425   \n",
              "Flavanoids                    178.0    2.029270    0.998859    0.34    1.2050   \n",
              "Nonflavanoid phenols          178.0    0.361854    0.124453    0.13    0.2700   \n",
              "Proanthocyanins               178.0    1.590899    0.572359    0.41    1.2500   \n",
              "Color intensity               178.0    5.058090    2.318286    1.28    3.2200   \n",
              "Hue                           178.0    0.957449    0.228572    0.48    0.7825   \n",
              "OD280/OD315 of diluted wines  178.0    2.611685    0.709990    1.27    1.9375   \n",
              "Proline                       178.0  746.893258  314.907474  278.00  500.5000   \n",
              "\n",
              "                                  50%       75%      max  \n",
              "Class label                     2.000    3.0000     3.00  \n",
              "Alcohol                        13.050   13.6775    14.83  \n",
              "Malic acid                      1.865    3.0825     5.80  \n",
              "Ash                             2.360    2.5575     3.23  \n",
              "Alcalinity of ash              19.500   21.5000    30.00  \n",
              "Magnesium                      98.000  107.0000   162.00  \n",
              "Total phenols                   2.355    2.8000     3.88  \n",
              "Flavanoids                      2.135    2.8750     5.08  \n",
              "Nonflavanoid phenols            0.340    0.4375     0.66  \n",
              "Proanthocyanins                 1.555    1.9500     3.58  \n",
              "Color intensity                 4.690    6.2000    13.00  \n",
              "Hue                             0.965    1.1200     1.71  \n",
              "OD280/OD315 of diluted wines    2.780    3.1700     4.00  \n",
              "Proline                       673.500  985.0000  1680.00  "
            ]
          },
          "execution_count": 21,
          "metadata": {},
          "output_type": "execute_result"
        }
      ],
      "source": [
        "df3.info() # 发现没有缺失值\n",
        "df3.describe().T"
      ]
    },
    {
      "cell_type": "markdown",
      "id": "8577a7a2",
      "metadata": {
        "id": "8577a7a2"
      },
      "source": [
        "## 3.1数据可视化，观察， 了解每个特征的数据分布"
      ]
    },
    {
      "cell_type": "code",
      "execution_count": null,
      "id": "5cd56115",
      "metadata": {
        "id": "5cd56115",
        "outputId": "ad982355-7238-4cff-f347-2eebc2ed5d52"
      },
      "outputs": [
        {
          "data": {
            "text/plain": [
              "<AxesSubplot:>"
            ]
          },
          "execution_count": 22,
          "metadata": {},
          "output_type": "execute_result"
        },
        {
          "data": {
            "text/plain": [
              "<AxesSubplot:>"
            ]
          },
          "execution_count": 22,
          "metadata": {},
          "output_type": "execute_result"
        },
        {
          "data": {
            "text/plain": [
              "Text(0.5, 0, 'Class label')"
            ]
          },
          "execution_count": 22,
          "metadata": {},
          "output_type": "execute_result"
        },
        {
          "data": {
            "text/plain": [
              "Text(0, 0.5, 'Frequency')"
            ]
          },
          "execution_count": 22,
          "metadata": {},
          "output_type": "execute_result"
        },
        {
          "data": {
            "text/plain": [
              "<AxesSubplot:>"
            ]
          },
          "execution_count": 22,
          "metadata": {},
          "output_type": "execute_result"
        },
        {
          "data": {
            "text/plain": [
              "<AxesSubplot:>"
            ]
          },
          "execution_count": 22,
          "metadata": {},
          "output_type": "execute_result"
        },
        {
          "data": {
            "text/plain": [
              "Text(0.5, 0, 'Alcohol')"
            ]
          },
          "execution_count": 22,
          "metadata": {},
          "output_type": "execute_result"
        },
        {
          "data": {
            "text/plain": [
              "Text(0, 0.5, 'Frequency')"
            ]
          },
          "execution_count": 22,
          "metadata": {},
          "output_type": "execute_result"
        },
        {
          "data": {
            "text/plain": [
              "<AxesSubplot:>"
            ]
          },
          "execution_count": 22,
          "metadata": {},
          "output_type": "execute_result"
        },
        {
          "data": {
            "text/plain": [
              "<AxesSubplot:>"
            ]
          },
          "execution_count": 22,
          "metadata": {},
          "output_type": "execute_result"
        },
        {
          "data": {
            "text/plain": [
              "Text(0.5, 0, 'Malic acid')"
            ]
          },
          "execution_count": 22,
          "metadata": {},
          "output_type": "execute_result"
        },
        {
          "data": {
            "text/plain": [
              "Text(0, 0.5, 'Frequency')"
            ]
          },
          "execution_count": 22,
          "metadata": {},
          "output_type": "execute_result"
        },
        {
          "data": {
            "text/plain": [
              "<AxesSubplot:>"
            ]
          },
          "execution_count": 22,
          "metadata": {},
          "output_type": "execute_result"
        },
        {
          "data": {
            "text/plain": [
              "<AxesSubplot:>"
            ]
          },
          "execution_count": 22,
          "metadata": {},
          "output_type": "execute_result"
        },
        {
          "data": {
            "text/plain": [
              "Text(0.5, 0, 'Ash')"
            ]
          },
          "execution_count": 22,
          "metadata": {},
          "output_type": "execute_result"
        },
        {
          "data": {
            "text/plain": [
              "Text(0, 0.5, 'Frequency')"
            ]
          },
          "execution_count": 22,
          "metadata": {},
          "output_type": "execute_result"
        },
        {
          "data": {
            "text/plain": [
              "<AxesSubplot:>"
            ]
          },
          "execution_count": 22,
          "metadata": {},
          "output_type": "execute_result"
        },
        {
          "data": {
            "text/plain": [
              "<AxesSubplot:>"
            ]
          },
          "execution_count": 22,
          "metadata": {},
          "output_type": "execute_result"
        },
        {
          "data": {
            "text/plain": [
              "Text(0.5, 0, 'Alcalinity of ash')"
            ]
          },
          "execution_count": 22,
          "metadata": {},
          "output_type": "execute_result"
        },
        {
          "data": {
            "text/plain": [
              "Text(0, 0.5, 'Frequency')"
            ]
          },
          "execution_count": 22,
          "metadata": {},
          "output_type": "execute_result"
        },
        {
          "data": {
            "text/plain": [
              "<AxesSubplot:>"
            ]
          },
          "execution_count": 22,
          "metadata": {},
          "output_type": "execute_result"
        },
        {
          "data": {
            "text/plain": [
              "<AxesSubplot:>"
            ]
          },
          "execution_count": 22,
          "metadata": {},
          "output_type": "execute_result"
        },
        {
          "data": {
            "text/plain": [
              "Text(0.5, 0, 'Magnesium')"
            ]
          },
          "execution_count": 22,
          "metadata": {},
          "output_type": "execute_result"
        },
        {
          "data": {
            "text/plain": [
              "Text(0, 0.5, 'Frequency')"
            ]
          },
          "execution_count": 22,
          "metadata": {},
          "output_type": "execute_result"
        },
        {
          "data": {
            "text/plain": [
              "<AxesSubplot:>"
            ]
          },
          "execution_count": 22,
          "metadata": {},
          "output_type": "execute_result"
        },
        {
          "data": {
            "text/plain": [
              "<AxesSubplot:>"
            ]
          },
          "execution_count": 22,
          "metadata": {},
          "output_type": "execute_result"
        },
        {
          "data": {
            "text/plain": [
              "Text(0.5, 0, 'Total phenols')"
            ]
          },
          "execution_count": 22,
          "metadata": {},
          "output_type": "execute_result"
        },
        {
          "data": {
            "text/plain": [
              "Text(0, 0.5, 'Frequency')"
            ]
          },
          "execution_count": 22,
          "metadata": {},
          "output_type": "execute_result"
        },
        {
          "data": {
            "text/plain": [
              "<AxesSubplot:>"
            ]
          },
          "execution_count": 22,
          "metadata": {},
          "output_type": "execute_result"
        },
        {
          "data": {
            "text/plain": [
              "<AxesSubplot:>"
            ]
          },
          "execution_count": 22,
          "metadata": {},
          "output_type": "execute_result"
        },
        {
          "data": {
            "text/plain": [
              "Text(0.5, 0, 'Flavanoids')"
            ]
          },
          "execution_count": 22,
          "metadata": {},
          "output_type": "execute_result"
        },
        {
          "data": {
            "text/plain": [
              "Text(0, 0.5, 'Frequency')"
            ]
          },
          "execution_count": 22,
          "metadata": {},
          "output_type": "execute_result"
        },
        {
          "data": {
            "text/plain": [
              "<AxesSubplot:>"
            ]
          },
          "execution_count": 22,
          "metadata": {},
          "output_type": "execute_result"
        },
        {
          "data": {
            "text/plain": [
              "<AxesSubplot:>"
            ]
          },
          "execution_count": 22,
          "metadata": {},
          "output_type": "execute_result"
        },
        {
          "data": {
            "text/plain": [
              "Text(0.5, 0, 'Nonflavanoid phenols')"
            ]
          },
          "execution_count": 22,
          "metadata": {},
          "output_type": "execute_result"
        },
        {
          "data": {
            "text/plain": [
              "Text(0, 0.5, 'Frequency')"
            ]
          },
          "execution_count": 22,
          "metadata": {},
          "output_type": "execute_result"
        },
        {
          "data": {
            "text/plain": [
              "<AxesSubplot:>"
            ]
          },
          "execution_count": 22,
          "metadata": {},
          "output_type": "execute_result"
        },
        {
          "data": {
            "text/plain": [
              "<AxesSubplot:>"
            ]
          },
          "execution_count": 22,
          "metadata": {},
          "output_type": "execute_result"
        },
        {
          "data": {
            "text/plain": [
              "Text(0.5, 0, 'Proanthocyanins')"
            ]
          },
          "execution_count": 22,
          "metadata": {},
          "output_type": "execute_result"
        },
        {
          "data": {
            "text/plain": [
              "Text(0, 0.5, 'Frequency')"
            ]
          },
          "execution_count": 22,
          "metadata": {},
          "output_type": "execute_result"
        },
        {
          "data": {
            "text/plain": [
              "<AxesSubplot:>"
            ]
          },
          "execution_count": 22,
          "metadata": {},
          "output_type": "execute_result"
        },
        {
          "data": {
            "text/plain": [
              "<AxesSubplot:>"
            ]
          },
          "execution_count": 22,
          "metadata": {},
          "output_type": "execute_result"
        },
        {
          "data": {
            "text/plain": [
              "Text(0.5, 0, 'Color intensity')"
            ]
          },
          "execution_count": 22,
          "metadata": {},
          "output_type": "execute_result"
        },
        {
          "data": {
            "text/plain": [
              "Text(0, 0.5, 'Frequency')"
            ]
          },
          "execution_count": 22,
          "metadata": {},
          "output_type": "execute_result"
        },
        {
          "data": {
            "text/plain": [
              "<AxesSubplot:>"
            ]
          },
          "execution_count": 22,
          "metadata": {},
          "output_type": "execute_result"
        },
        {
          "data": {
            "text/plain": [
              "<AxesSubplot:>"
            ]
          },
          "execution_count": 22,
          "metadata": {},
          "output_type": "execute_result"
        },
        {
          "data": {
            "text/plain": [
              "Text(0.5, 0, 'Hue')"
            ]
          },
          "execution_count": 22,
          "metadata": {},
          "output_type": "execute_result"
        },
        {
          "data": {
            "text/plain": [
              "Text(0, 0.5, 'Frequency')"
            ]
          },
          "execution_count": 22,
          "metadata": {},
          "output_type": "execute_result"
        },
        {
          "data": {
            "text/plain": [
              "<AxesSubplot:>"
            ]
          },
          "execution_count": 22,
          "metadata": {},
          "output_type": "execute_result"
        },
        {
          "data": {
            "text/plain": [
              "<AxesSubplot:>"
            ]
          },
          "execution_count": 22,
          "metadata": {},
          "output_type": "execute_result"
        },
        {
          "data": {
            "text/plain": [
              "Text(0.5, 0, 'OD280/OD315 of diluted wines')"
            ]
          },
          "execution_count": 22,
          "metadata": {},
          "output_type": "execute_result"
        },
        {
          "data": {
            "text/plain": [
              "Text(0, 0.5, 'Frequency')"
            ]
          },
          "execution_count": 22,
          "metadata": {},
          "output_type": "execute_result"
        },
        {
          "data": {
            "text/plain": [
              "<AxesSubplot:>"
            ]
          },
          "execution_count": 22,
          "metadata": {},
          "output_type": "execute_result"
        },
        {
          "data": {
            "text/plain": [
              "<AxesSubplot:>"
            ]
          },
          "execution_count": 22,
          "metadata": {},
          "output_type": "execute_result"
        },
        {
          "data": {
            "text/plain": [
              "Text(0.5, 0, 'Proline')"
            ]
          },
          "execution_count": 22,
          "metadata": {},
          "output_type": "execute_result"
        },
        {
          "data": {
            "text/plain": [
              "Text(0, 0.5, 'Frequency')"
            ]
          },
          "execution_count": 22,
          "metadata": {},
          "output_type": "execute_result"
        },
        {
          "data": {
            "image/png": "[encoded data removed]",
            "text/plain": [
              "<Figure size 720x576 with 14 Axes>"
            ]
          },
          "metadata": {
            "needs_background": "light"
          },
          "output_type": "display_data"
        }
      ],
      "source": [
        "color = sns.color_palette()# 设置调色板\n",
        "fig = plt.figure(figsize = (10,8))\n",
        "\n",
        "# !!!以下动态方法我没想到\n",
        "column= df3.columns.tolist()\n",
        "for i in range(14):\n",
        "    plt.subplot(4,4,i+1)\n",
        "    df3[column[i]].hist(bins = 10,color = color[3])\n",
        "    plt.xlabel(column[i],fontsize = 12)\n",
        "    plt.ylabel('Frequency',fontsize = 12)\n",
        "plt.tight_layout()"
      ]
    },
    {
      "cell_type": "code",
      "execution_count": null,
      "id": "8b0d92ac",
      "metadata": {
        "id": "8b0d92ac",
        "outputId": "0516dbf6-8310-4302-dd26-34fa56bbb8fb"
      },
      "outputs": [
        {
          "data": {
            "text/plain": [
              "<AxesSubplot:>"
            ]
          },
          "execution_count": 23,
          "metadata": {},
          "output_type": "execute_result"
        },
        {
          "data": {
            "text/plain": [
              "<AxesSubplot:>"
            ]
          },
          "execution_count": 23,
          "metadata": {},
          "output_type": "execute_result"
        },
        {
          "data": {
            "text/plain": [
              "Text(0, 0.5, 'Class label')"
            ]
          },
          "execution_count": 23,
          "metadata": {},
          "output_type": "execute_result"
        },
        {
          "data": {
            "text/plain": [
              "<AxesSubplot:>"
            ]
          },
          "execution_count": 23,
          "metadata": {},
          "output_type": "execute_result"
        },
        {
          "data": {
            "text/plain": [
              "<AxesSubplot:>"
            ]
          },
          "execution_count": 23,
          "metadata": {},
          "output_type": "execute_result"
        },
        {
          "data": {
            "text/plain": [
              "Text(0, 0.5, 'Alcohol')"
            ]
          },
          "execution_count": 23,
          "metadata": {},
          "output_type": "execute_result"
        },
        {
          "data": {
            "text/plain": [
              "<AxesSubplot:>"
            ]
          },
          "execution_count": 23,
          "metadata": {},
          "output_type": "execute_result"
        },
        {
          "data": {
            "text/plain": [
              "<AxesSubplot:>"
            ]
          },
          "execution_count": 23,
          "metadata": {},
          "output_type": "execute_result"
        },
        {
          "data": {
            "text/plain": [
              "Text(0, 0.5, 'Malic acid')"
            ]
          },
          "execution_count": 23,
          "metadata": {},
          "output_type": "execute_result"
        },
        {
          "data": {
            "text/plain": [
              "<AxesSubplot:>"
            ]
          },
          "execution_count": 23,
          "metadata": {},
          "output_type": "execute_result"
        },
        {
          "data": {
            "text/plain": [
              "<AxesSubplot:>"
            ]
          },
          "execution_count": 23,
          "metadata": {},
          "output_type": "execute_result"
        },
        {
          "data": {
            "text/plain": [
              "Text(0, 0.5, 'Ash')"
            ]
          },
          "execution_count": 23,
          "metadata": {},
          "output_type": "execute_result"
        },
        {
          "data": {
            "text/plain": [
              "<AxesSubplot:>"
            ]
          },
          "execution_count": 23,
          "metadata": {},
          "output_type": "execute_result"
        },
        {
          "data": {
            "text/plain": [
              "<AxesSubplot:>"
            ]
          },
          "execution_count": 23,
          "metadata": {},
          "output_type": "execute_result"
        },
        {
          "data": {
            "text/plain": [
              "Text(0, 0.5, 'Alcalinity of ash')"
            ]
          },
          "execution_count": 23,
          "metadata": {},
          "output_type": "execute_result"
        },
        {
          "data": {
            "text/plain": [
              "<AxesSubplot:>"
            ]
          },
          "execution_count": 23,
          "metadata": {},
          "output_type": "execute_result"
        },
        {
          "data": {
            "text/plain": [
              "<AxesSubplot:>"
            ]
          },
          "execution_count": 23,
          "metadata": {},
          "output_type": "execute_result"
        },
        {
          "data": {
            "text/plain": [
              "Text(0, 0.5, 'Magnesium')"
            ]
          },
          "execution_count": 23,
          "metadata": {},
          "output_type": "execute_result"
        },
        {
          "data": {
            "text/plain": [
              "<AxesSubplot:>"
            ]
          },
          "execution_count": 23,
          "metadata": {},
          "output_type": "execute_result"
        },
        {
          "data": {
            "text/plain": [
              "<AxesSubplot:>"
            ]
          },
          "execution_count": 23,
          "metadata": {},
          "output_type": "execute_result"
        },
        {
          "data": {
            "text/plain": [
              "Text(0, 0.5, 'Total phenols')"
            ]
          },
          "execution_count": 23,
          "metadata": {},
          "output_type": "execute_result"
        },
        {
          "data": {
            "text/plain": [
              "<AxesSubplot:>"
            ]
          },
          "execution_count": 23,
          "metadata": {},
          "output_type": "execute_result"
        },
        {
          "data": {
            "text/plain": [
              "<AxesSubplot:>"
            ]
          },
          "execution_count": 23,
          "metadata": {},
          "output_type": "execute_result"
        },
        {
          "data": {
            "text/plain": [
              "Text(0, 0.5, 'Flavanoids')"
            ]
          },
          "execution_count": 23,
          "metadata": {},
          "output_type": "execute_result"
        },
        {
          "data": {
            "text/plain": [
              "<AxesSubplot:>"
            ]
          },
          "execution_count": 23,
          "metadata": {},
          "output_type": "execute_result"
        },
        {
          "data": {
            "text/plain": [
              "<AxesSubplot:>"
            ]
          },
          "execution_count": 23,
          "metadata": {},
          "output_type": "execute_result"
        },
        {
          "data": {
            "text/plain": [
              "Text(0, 0.5, 'Nonflavanoid phenols')"
            ]
          },
          "execution_count": 23,
          "metadata": {},
          "output_type": "execute_result"
        },
        {
          "data": {
            "text/plain": [
              "<AxesSubplot:>"
            ]
          },
          "execution_count": 23,
          "metadata": {},
          "output_type": "execute_result"
        },
        {
          "data": {
            "text/plain": [
              "<AxesSubplot:>"
            ]
          },
          "execution_count": 23,
          "metadata": {},
          "output_type": "execute_result"
        },
        {
          "data": {
            "text/plain": [
              "Text(0, 0.5, 'Proanthocyanins')"
            ]
          },
          "execution_count": 23,
          "metadata": {},
          "output_type": "execute_result"
        },
        {
          "data": {
            "text/plain": [
              "<AxesSubplot:>"
            ]
          },
          "execution_count": 23,
          "metadata": {},
          "output_type": "execute_result"
        },
        {
          "data": {
            "text/plain": [
              "<AxesSubplot:>"
            ]
          },
          "execution_count": 23,
          "metadata": {},
          "output_type": "execute_result"
        },
        {
          "data": {
            "text/plain": [
              "Text(0, 0.5, 'Color intensity')"
            ]
          },
          "execution_count": 23,
          "metadata": {},
          "output_type": "execute_result"
        },
        {
          "data": {
            "text/plain": [
              "<AxesSubplot:>"
            ]
          },
          "execution_count": 23,
          "metadata": {},
          "output_type": "execute_result"
        },
        {
          "data": {
            "text/plain": [
              "<AxesSubplot:>"
            ]
          },
          "execution_count": 23,
          "metadata": {},
          "output_type": "execute_result"
        },
        {
          "data": {
            "text/plain": [
              "Text(0, 0.5, 'Hue')"
            ]
          },
          "execution_count": 23,
          "metadata": {},
          "output_type": "execute_result"
        },
        {
          "data": {
            "text/plain": [
              "<AxesSubplot:>"
            ]
          },
          "execution_count": 23,
          "metadata": {},
          "output_type": "execute_result"
        },
        {
          "data": {
            "text/plain": [
              "<AxesSubplot:>"
            ]
          },
          "execution_count": 23,
          "metadata": {},
          "output_type": "execute_result"
        },
        {
          "data": {
            "text/plain": [
              "Text(0, 0.5, 'OD280/OD315 of diluted wines')"
            ]
          },
          "execution_count": 23,
          "metadata": {},
          "output_type": "execute_result"
        },
        {
          "data": {
            "text/plain": [
              "<AxesSubplot:>"
            ]
          },
          "execution_count": 23,
          "metadata": {},
          "output_type": "execute_result"
        },
        {
          "data": {
            "text/plain": [
              "<AxesSubplot:>"
            ]
          },
          "execution_count": 23,
          "metadata": {},
          "output_type": "execute_result"
        },
        {
          "data": {
            "text/plain": [
              "Text(0, 0.5, 'Proline')"
            ]
          },
          "execution_count": 23,
          "metadata": {},
          "output_type": "execute_result"
        },
        {
          "data": {
            "image/png": "[encoded data removed]",
            "text/plain": [
              "<Figure size 720x576 with 14 Axes>"
            ]
          },
          "metadata": {
            "needs_background": "light"
          },
          "output_type": "display_data"
        }
      ],
      "source": [
        "fig = plt.figure(figsize = (10,8))\n",
        "for i in range(14):\n",
        "    plt.subplot(4,4,i+1)\n",
        "    sns.boxplot(data=df3[column[i]],orient = 'x',width = 0.5,color = color[4])\n",
        "    plt.ylabel(column[i],fontsize = 12)\n",
        "plt.tight_layout()"
      ]
    },
    {
      "cell_type": "markdown",
      "id": "f6b1051a",
      "metadata": {
        "id": "f6b1051a"
      },
      "source": [
        "基于对以上图像的观察，我将对属性2-6进行归一化，对剩下的属性进行标准化"
      ]
    },
    {
      "cell_type": "code",
      "execution_count": null,
      "id": "ff3be206",
      "metadata": {
        "id": "ff3be206"
      },
      "outputs": [],
      "source": [
        "X, y = df3.iloc[:, 1:], df3.iloc[:, 0]\n",
        "\n",
        "# “留出法”划分数据集\n",
        "X_train, X_test, y_train, y_test = train_test_split(X, y,test_size=0.3, random_state=0) # 30%为测试集"
      ]
    },
    {
      "cell_type": "markdown",
      "id": "2915cde3",
      "metadata": {
        "id": "2915cde3"
      },
      "source": [
        "## 3.2归一化"
      ]
    },
    {
      "cell_type": "markdown",
      "id": "e5a5aa3c",
      "metadata": {
        "id": "e5a5aa3c"
      },
      "source": [
        "### 方法一：min-max normalization\n",
        "\n",
        "适用范围：\n",
        "对输出范围有要求；\n",
        "数据较为稳定，不存在极端的最大最小值；\n",
        "在不涉及距离度量、协方差计算或数据不符合正态分布的时候，可以使用该方法"
      ]
    },
    {
      "cell_type": "code",
      "execution_count": null,
      "id": "d8398b23",
      "metadata": {
        "id": "d8398b23"
      },
      "outputs": [],
      "source": [
        "mms = MinMaxScaler()\n",
        "X_train_norm = mms.fit_transform(X_train)\n",
        "X_test_norm = mms.transform(X_test)"
      ]
    },
    {
      "cell_type": "markdown",
      "id": "166943a2",
      "metadata": {
        "id": "166943a2"
      },
      "source": [
        "### 方法二：Mean normalization\n",
        "\n",
        "适用范围：矩阵分解"
      ]
    },
    {
      "cell_type": "markdown",
      "id": "187c2cd0",
      "metadata": {
        "id": "187c2cd0"
      },
      "source": [
        "[光谱预处理算法](https://blog.csdn.net/Echo_Code/article/details/121202636?ops_request_misc=%257B%2522request%255Fid%2522%253A%2522165098659816782390584181%2522%252C%2522scm%2522%253A%252220140713.130102334.pc%255Fall.%2522%257D&request_id=165098659816782390584181&biz_id=0&utm_medium=distribute.pc_search_result.none-task-blog-121202636-null-null-2~all~first_rank_ecpm_v1~rank_v31_ecpm-1-121202636.142^v9^pc_search_result_control_group,157^v4^control&utm_term=def+MeanScaler%28%29&spm=1018.2226.3001.4187)——仅供思维发散"
      ]
    },
    {
      "cell_type": "code",
      "execution_count": null,
      "id": "e2573d43",
      "metadata": {
        "id": "e2573d43"
      },
      "outputs": [],
      "source": [
        "maximums, minimums, mean = X_train.max(axis=0), X_train.min(axis=0), X_train.mean(axis=0)\n",
        "\n",
        "for i in range(13):\n",
        "    X_train.values[:, i] = (X_train.values[:, i] - mean[i]) / (maximums[i] - minimums[i])"
      ]
    },
    {
      "cell_type": "markdown",
      "id": "6d6979c4",
      "metadata": {
        "id": "6d6979c4"
      },
      "source": [
        "### 方法三：Scaling to unit length\n",
        "\n",
        "每个组件除以向量的欧几里德长度"
      ]
    },
    {
      "cell_type": "code",
      "execution_count": null,
      "id": "2326692e",
      "metadata": {
        "id": "2326692e",
        "outputId": "681fe730-e5ee-4c55-f6e2-baf7e6585130"
      },
      "outputs": [
        {
          "ename": "SyntaxError",
          "evalue": "EOL while scanning string literal (<ipython-input-28-bca488e68920>, line 1)",
          "output_type": "error",
          "traceback": [
            "\u001b[1;36m  File \u001b[1;32m\"<ipython-input-28-bca488e68920>\"\u001b[1;36m, line \u001b[1;32m1\u001b[0m\n\u001b[1;33m    preprocessing.Normalizer(norm='l2’, copy=True)\u001b[0m\n\u001b[1;37m                                                  　^\u001b[0m\n\u001b[1;31mSyntaxError\u001b[0m\u001b[1;31m:\u001b[0m EOL while scanning string literal\n"
          ]
        }
      ],
      "source": [
        "preprocessing.Normalizer(norm='l2’, copy=True)\n",
        "preprocessing.normalize(X, norm='l2’, axis=1, copy=True, return_norm=False)\n",
        "\n",
        "# norm：'l1','l2',或'max',可选，默认='l2'\n",
        "# copy：可选，默认=True"
      ]
    },
    {
      "cell_type": "markdown",
      "id": "c13d7351",
      "metadata": {
        "id": "c13d7351"
      },
      "source": [
        "## 3.3标准化/Z-score normalization"
      ]
    },
    {
      "cell_type": "markdown",
      "id": "e7720332",
      "metadata": {
        "id": "e7720332"
      },
      "source": [
        "### 方法一\n",
        "\n",
        "适用范围：\n",
        "SVM、LR、神经网络\n",
        "\n",
        "数据本身服从正态分布；\n",
        "最大值和最小值未知，或有超出取值范围的离群数据；\n",
        "在分类、聚类算法中需要使用距离来度量相似性、或者使用PCA（主成分析）技术进行降维时，使用该方法表现更好"
      ]
    },
    {
      "cell_type": "code",
      "execution_count": null,
      "id": "f509febe",
      "metadata": {
        "id": "f509febe"
      },
      "outputs": [],
      "source": [
        "stdsc = StandardScaler()\n",
        "X_train_std = stdsc.fit_transform(X_train)\n",
        "X_test_std = stdsc.transform(X_test)"
      ]
    },
    {
      "cell_type": "markdown",
      "id": "eeee1aca",
      "metadata": {
        "id": "eeee1aca"
      },
      "source": [
        "### 方法二（与方法一效果一样，一般不用这个）"
      ]
    },
    {
      "cell_type": "code",
      "execution_count": null,
      "id": "4bf995be",
      "metadata": {
        "id": "4bf995be",
        "outputId": "d6e01e56-05ae-403e-e5d8-6d57957ba4b8"
      },
      "outputs": [
        {
          "ename": "NameError",
          "evalue": "name 'df_train' is not defined",
          "output_type": "error",
          "traceback": [
            "\u001b[1;31m---------------------------------------------------------------------------\u001b[0m",
            "\u001b[1;31mNameError\u001b[0m                                 Traceback (most recent call last)",
            "\u001b[1;32m<ipython-input-30-475879cdc927>\u001b[0m in \u001b[0;36m<module>\u001b[1;34m\u001b[0m\n\u001b[1;32m----> 1\u001b[1;33m \u001b[0mdf_train\u001b[0m\u001b[1;33m[\u001b[0m\u001b[1;34m'feature'\u001b[0m\u001b[1;33m]\u001b[0m \u001b[1;33m=\u001b[0m \u001b[0mscale\u001b[0m\u001b[1;33m(\u001b[0m\u001b[0mdf_train\u001b[0m\u001b[1;33m[\u001b[0m\u001b[1;34m'feature'\u001b[0m\u001b[1;33m]\u001b[0m\u001b[1;33m)\u001b[0m\u001b[1;33m\u001b[0m\u001b[1;33m\u001b[0m\u001b[0m\n\u001b[0m",
            "\u001b[1;31mNameError\u001b[0m: name 'df_train' is not defined"
          ]
        }
      ],
      "source": [
        "df_train['feature'] = scale(df_train['feature'])"
      ]
    },
    {
      "cell_type": "markdown",
      "id": "7f048e78",
      "metadata": {
        "id": "7f048e78"
      },
      "source": [
        "## 标准化、归一化效果对比"
      ]
    },
    {
      "cell_type": "code",
      "execution_count": null,
      "id": "ff18b5e8",
      "metadata": {
        "scrolled": true,
        "id": "ff18b5e8",
        "outputId": "8bf3460c-8ef3-412d-b525-ad2e33f53bff"
      },
      "outputs": [
        {
          "data": {
            "text/plain": [
              "<Figure size 576x432 with 0 Axes>"
            ]
          },
          "execution_count": 31,
          "metadata": {},
          "output_type": "execute_result"
        },
        {
          "data": {
            "text/plain": [
              "<matplotlib.collections.PathCollection at 0x204fdda0bb0>"
            ]
          },
          "execution_count": 31,
          "metadata": {},
          "output_type": "execute_result"
        },
        {
          "data": {
            "text/plain": [
              "<matplotlib.collections.PathCollection at 0x204fd7a7190>"
            ]
          },
          "execution_count": 31,
          "metadata": {},
          "output_type": "execute_result"
        },
        {
          "data": {
            "text/plain": [
              "<matplotlib.collections.PathCollection at 0x204fddb3490>"
            ]
          },
          "execution_count": 31,
          "metadata": {},
          "output_type": "execute_result"
        },
        {
          "data": {
            "text/plain": [
              "Text(0.5, 1.0, 'Alcohol and Malic Acid content of the wine dataset')"
            ]
          },
          "execution_count": 31,
          "metadata": {},
          "output_type": "execute_result"
        },
        {
          "data": {
            "text/plain": [
              "Text(0.5, 0, 'Alcohol')"
            ]
          },
          "execution_count": 31,
          "metadata": {},
          "output_type": "execute_result"
        },
        {
          "data": {
            "text/plain": [
              "Text(0, 0.5, 'Malic Acid')"
            ]
          },
          "execution_count": 31,
          "metadata": {},
          "output_type": "execute_result"
        },
        {
          "data": {
            "text/plain": [
              "<matplotlib.legend.Legend at 0x204fdd86700>"
            ]
          },
          "execution_count": 31,
          "metadata": {},
          "output_type": "execute_result"
        },
        {
          "data": {
            "image/png": "[encoded data removed]",
            "text/plain": [
              "<Figure size 576x432 with 1 Axes>"
            ]
          },
          "metadata": {
            "needs_background": "light"
          },
          "output_type": "display_data"
        }
      ],
      "source": [
        "plt.figure(figsize=(8,6))\n",
        "\n",
        "plt.scatter(df3['Alcohol'], df3['Malic acid'], color='green', label='input scale', alpha=0.5)\n",
        "plt.scatter(X_train_std[:,0], X_train_std[:,1], color='red', label='Standardized [$N  (\\mu=0, \\; \\sigma=1)$]', alpha=0.3)\n",
        "plt.scatter(X_train_norm[:,0], X_train_norm[:,1], color='blue', label='min-max scaled [min=0, max=1]', alpha=0.3)\n",
        "\n",
        "plt.title('Alcohol and Malic Acid content of the wine dataset')\n",
        "plt.xlabel('Alcohol')\n",
        "plt.ylabel('Malic Acid')\n",
        "plt.legend(loc='upper left')\n",
        "plt.grid()\n",
        "\n",
        "plt.tight_layout()"
      ]
    },
    {
      "cell_type": "markdown",
      "id": "67bdbb33",
      "metadata": {
        "id": "67bdbb33"
      },
      "source": [
        "由图可知，\n",
        "标准化后，数据分布形状及形状大小不变，但数据值整体变小；\n",
        "归一化后，数据分布形状不变但明显变小，数据值整体变小且更集中。"
      ]
    },
    {
      "cell_type": "markdown",
      "id": "32f55079",
      "metadata": {
        "id": "32f55079"
      },
      "source": [
        "# 4.划分数据集\n",
        "\n",
        "[数据集划分的三种常见方式](https://blog.csdn.net/weixin_38753213/article/details/112690712?ops_request_misc=%257B%2522request%255Fid%2522%253A%2522165094610116782350910337%2522%252C%2522scm%2522%253A%252220140713.130102334..%2522%257D&request_id=165094610116782350910337&biz_id=0&utm_medium=distribute.pc_search_result.none-task-blog-2~all~top_click~default-1-112690712.142^v9^pc_search_result_control_group,157^v4^control&utm_term=%E5%88%92%E5%88%86%E6%95%B0%E6%8D%AE%E9%9B%86&spm=1018.2226.3001.4187)"
      ]
    },
    {
      "cell_type": "markdown",
      "id": "d7b9d55d",
      "metadata": {
        "id": "d7b9d55d"
      },
      "source": [
        "### 方法一：留出法(hold-out)\n",
        "\n",
        "优点：\n",
        "用几乎所有的数据进行训练，然后用一个数据进行测试。\n",
        "确定性:实验没有随机因素，整个过程是可重复的。无论测多少次结果都一样。\n",
        "\n",
        "缺点：\n",
        "计算时间长、分层问题"
      ]
    },
    {
      "cell_type": "code",
      "execution_count": null,
      "id": "0ea3b4d2",
      "metadata": {
        "id": "0ea3b4d2"
      },
      "outputs": [],
      "source": [
        "# 将70%的样本作为训练集，30%作为测试集\n",
        "X_train, X_test, y_train, y_test = train_test_split(X, y,test_size=0.3, random_state=1)"
      ]
    },
    {
      "cell_type": "markdown",
      "id": "f0bd8e40",
      "metadata": {
        "id": "f0bd8e40"
      },
      "source": [
        "[python sklearn模型中random_state参数的意义](https://blog.csdn.net/xiaohutong1991/article/details/107923970?spm=1001.2101.3001.6650.1&utm_medium=distribute.pc_relevant.none-task-blog-2%7Edefault%7ECTRLIST%7Edefault-1.pc_relevant_default&depth_1-utm_source=distribute.pc_relevant.none-task-blog-2%7Edefault%7ECTRLIST%7Edefault-1.pc_relevant_default&utm_relevant_index=1)\n",
        "\n",
        "[对random_state参数的理解](https://blog.csdn.net/az9996/article/details/86616668?ops_request_misc=%257B%2522request%255Fid%2522%253A%2522165094166116781683972204%2522%252C%2522scm%2522%253A%252220140713.130102334..%2522%257D&request_id=165094166116781683972204&biz_id=0&utm_medium=distribute.pc_search_result.none-task-blog-2~all~top_positive~default-1-86616668.142^v9^pc_search_result_control_group,157^v4^control&utm_term=random_state&spm=1018.2226.3001.4187)"
      ]
    },
    {
      "cell_type": "markdown",
      "id": "7cde7ac2",
      "metadata": {
        "id": "7cde7ac2"
      },
      "source": [
        "### 方法二：交叉验证法（Cross-Validation）\n",
        "\n",
        "优点：\n",
        "1：用于评估模型的预测性能，尤其是训练好的模型在新数据上的表现，可以在一定程度上减小过拟合。\n",
        "2：解决数据集的数据量不够大问题。\n",
        "3：解决参数调优问题\n",
        "\n",
        "简单交叉验证（HoldOut检验）、cv（k-fold交叉验证）(常用)、留一法/留P法\n",
        "\n",
        "如果模型同时需要对多个参数进行优化会用到另一种方法——网格搜索法[GridSearchCV](https://blog.csdn.net/weixin_41988628/article/details/83098130)\n",
        "\n",
        "[几种交叉验证法](https://blog.csdn.net/yawei_liu1688/article/details/79138202)"
      ]
    },
    {
      "cell_type": "code",
      "execution_count": null,
      "id": "e06a62bf",
      "metadata": {
        "id": "e06a62bf"
      },
      "outputs": [],
      "source": [
        "# 交叉验证\n",
        "from sklearn.model_selection import cross_val_score\n",
        "from sklearn.neighbors import KNeighborsClassifier  #一个简单的模型，只有K一个参数，类似K-means\n",
        "\n",
        "k_range = range(1,31)\n",
        "cv_scores = [] # 用来放每个模型的评价值\n",
        "for n in k_range:\n",
        "    knn = KNeighborsClassifier(n)\n",
        "    scores = cross_val_score(knn,X_train,y_train,cv=10,scoring='accuracy')\n",
        "    # cv：每次测试折数，默认为3;\n",
        "    # scoring：评价指标,默认'f1_macro’。\n",
        "    cv_scores.append(scores.mean())\n",
        "\n",
        "plt.plot(k_range,cv_scores)\n",
        "plt.xlabel('K')\n",
        "plt.ylabel('Accuracy')#通过图像选择最好的参数\n",
        "plt.show()\n",
        "\n",
        "best_knn = KNeighborsClassifier(n_neighbors=1)# 选择最优的K=1传入模型\n",
        "best_knn.fit(X_train,y_train)#训练模型\n",
        "print(best_knn.score(X_test,y_test))#看看评分"
      ]
    },
    {
      "cell_type": "markdown",
      "id": "646ad806",
      "metadata": {
        "id": "646ad806"
      },
      "source": [
        "[随机森林 + 十折交叉验证](https://blog.csdn.net/m0_45184077/article/details/114445687?ops_request_misc=%257B%2522request%255Fid%2522%253A%2522165094654716781667865966%2522%252C%2522scm%2522%253A%252220140713.130102334.pc%255Fall.%2522%257D&request_id=165094654716781667865966&biz_id=0&utm_medium=distribute.pc_search_result.none-task-blog-2~all~first_rank_ecpm_v1~rank_v31_ecpm-8-114445687.142%5Ev9%5Epc_search_result_control_group,157%5Ev4%5Econtrol&utm_term=%E7%BA%A2%E9%85%92%E6%95%B0%E6%8D%AE%E9%9B%86%E7%95%99%E5%87%BA%E6%B3%95%E5%88%92%E5%88%86%E6%95%B0%E6%8D%AE%E9%9B%86&spm=1018.2226.3001.4187)"
      ]
    },
    {
      "cell_type": "markdown",
      "id": "ac996d6c",
      "metadata": {
        "id": "ac996d6c"
      },
      "source": [
        "### 方法三：自助法（bootstrapping）\n",
        "\n",
        "当数据量很小时，我们可以使用留一法，但这种方法会造成计算复杂度过高。此时，我们引入自助法来解决问题。\n",
        "\n",
        "优点：在数据集较小、难以有效划分训练/测试集时很有用；能从初始数据集中产生多个不同的训练集，这对集成学习等方法有很大的好处。\n",
        "\n",
        "缺点：产生的数据集改变了初始数据集的分布，这会引入估计偏差。"
      ]
    },
    {
      "cell_type": "code",
      "execution_count": null,
      "id": "8648a170",
      "metadata": {
        "id": "8648a170"
      },
      "outputs": [],
      "source": [
        "from random import sample\n",
        "X_train = X.sample(n=178,replace=True,random_state=1)\n",
        "X_test = X.append(X_train).drop_duplicates(keep=False)# 保留不重复的行\n",
        "y_train = y.sample(n=178,replace=True,random_state=1)\n",
        "y_test = y.append(y_train).drop_duplicates(keep=False)"
      ]
    },
    {
      "cell_type": "markdown",
      "id": "aa7c680d",
      "metadata": {
        "id": "aa7c680d"
      },
      "source": [
        "随机选取若干行\n",
        "\n",
        "DataFrame.sample(n=None, frac=None, replace=False, weights=None, random_state=None, axis=None)\n",
        "\n",
        "n:要抽取的行数;\n",
        "frac:抽取行的比例;\n",
        "replace:是否为有放回抽样;\n",
        "weights:字符索引或概率数组;\n",
        "random_state:None/1-取得的数据是否可重复;\n",
        "axis:0/1-抽取行/列"
      ]
    },
    {
      "cell_type": "markdown",
      "id": "9926a227",
      "metadata": {
        "id": "9926a227"
      },
      "source": [
        "### 拓展：利用现有红酒数据集做一个回归分类模型"
      ]
    },
    {
      "cell_type": "code",
      "execution_count": null,
      "id": "e1f1d7c6",
      "metadata": {
        "id": "e1f1d7c6",
        "outputId": "ecd17c2e-a459-4977-c01a-4f5b6f48753b"
      },
      "outputs": [
        {
          "data": {
            "text/plain": [
              "LogisticRegression()"
            ]
          },
          "execution_count": 32,
          "metadata": {},
          "output_type": "execute_result"
        },
        {
          "name": "stdout",
          "output_type": "stream",
          "text": [
            "准确度为: 0.9814814814814815\n"
          ]
        },
        {
          "ename": "ValueError",
          "evalue": "y must be a NumPy array. Found <class 'pandas.core.series.Series'>",
          "output_type": "error",
          "traceback": [
            "\u001b[1;31m---------------------------------------------------------------------------\u001b[0m",
            "\u001b[1;31mValueError\u001b[0m                                Traceback (most recent call last)",
            "\u001b[1;32m<ipython-input-32-49a9bd4993e4>\u001b[0m in \u001b[0;36m<module>\u001b[1;34m\u001b[0m\n\u001b[0;32m     13\u001b[0m \u001b[0mprint\u001b[0m\u001b[1;33m(\u001b[0m\u001b[1;34m\"准确度为:\"\u001b[0m\u001b[1;33m,\u001b[0m\u001b[0macc\u001b[0m\u001b[1;33m)\u001b[0m\u001b[1;33m\u001b[0m\u001b[1;33m\u001b[0m\u001b[0m\n\u001b[0;32m     14\u001b[0m \u001b[1;33m\u001b[0m\u001b[0m\n\u001b[1;32m---> 15\u001b[1;33m \u001b[0mplot_decision_regions\u001b[0m\u001b[1;33m(\u001b[0m\u001b[0mX_train_pca\u001b[0m\u001b[1;33m,\u001b[0m \u001b[0my_train\u001b[0m\u001b[1;33m,\u001b[0m \u001b[0mclf\u001b[0m\u001b[1;33m=\u001b[0m\u001b[0mlr\u001b[0m\u001b[1;33m)\u001b[0m\u001b[1;31m# classifier\u001b[0m\u001b[1;33m\u001b[0m\u001b[1;33m\u001b[0m\u001b[0m\n\u001b[0m\u001b[0;32m     16\u001b[0m \u001b[0mplt\u001b[0m\u001b[1;33m.\u001b[0m\u001b[0mxlabel\u001b[0m\u001b[1;33m(\u001b[0m\u001b[1;34m'PC1'\u001b[0m\u001b[1;33m)\u001b[0m\u001b[1;33m\u001b[0m\u001b[1;33m\u001b[0m\u001b[0m\n\u001b[0;32m     17\u001b[0m \u001b[0mplt\u001b[0m\u001b[1;33m.\u001b[0m\u001b[0mylabel\u001b[0m\u001b[1;33m(\u001b[0m\u001b[1;34m'PC2'\u001b[0m\u001b[1;33m)\u001b[0m\u001b[1;33m\u001b[0m\u001b[1;33m\u001b[0m\u001b[0m\n",
            "\u001b[1;32mD:\\anaconda\\anaconda\\lib\\site-packages\\mlxtend\\plotting\\decision_regions.py\u001b[0m in \u001b[0;36mplot_decision_regions\u001b[1;34m(X, y, clf, feature_index, filler_feature_values, filler_feature_ranges, ax, X_highlight, zoom_factor, legend, hide_spines, markers, colors, scatter_kwargs, contourf_kwargs, scatter_highlight_kwargs)\u001b[0m\n\u001b[0;32m    136\u001b[0m     \"\"\"\n\u001b[0;32m    137\u001b[0m \u001b[1;33m\u001b[0m\u001b[0m\n\u001b[1;32m--> 138\u001b[1;33m     \u001b[0mcheck_Xy\u001b[0m\u001b[1;33m(\u001b[0m\u001b[0mX\u001b[0m\u001b[1;33m,\u001b[0m \u001b[0my\u001b[0m\u001b[1;33m,\u001b[0m \u001b[0my_int\u001b[0m\u001b[1;33m=\u001b[0m\u001b[1;32mTrue\u001b[0m\u001b[1;33m)\u001b[0m  \u001b[1;31m# Validate X and y arrays\u001b[0m\u001b[1;33m\u001b[0m\u001b[1;33m\u001b[0m\u001b[0m\n\u001b[0m\u001b[0;32m    139\u001b[0m     \u001b[0mdim\u001b[0m \u001b[1;33m=\u001b[0m \u001b[0mX\u001b[0m\u001b[1;33m.\u001b[0m\u001b[0mshape\u001b[0m\u001b[1;33m[\u001b[0m\u001b[1;36m1\u001b[0m\u001b[1;33m]\u001b[0m\u001b[1;33m\u001b[0m\u001b[1;33m\u001b[0m\u001b[0m\n\u001b[0;32m    140\u001b[0m \u001b[1;33m\u001b[0m\u001b[0m\n",
            "\u001b[1;32mD:\\anaconda\\anaconda\\lib\\site-packages\\mlxtend\\utils\\checking.py\u001b[0m in \u001b[0;36mcheck_Xy\u001b[1;34m(X, y, y_int)\u001b[0m\n\u001b[0;32m     16\u001b[0m         \u001b[1;32mraise\u001b[0m \u001b[0mValueError\u001b[0m\u001b[1;33m(\u001b[0m\u001b[1;34m'X must be a NumPy array. Found %s'\u001b[0m \u001b[1;33m%\u001b[0m \u001b[0mtype\u001b[0m\u001b[1;33m(\u001b[0m\u001b[0mX\u001b[0m\u001b[1;33m)\u001b[0m\u001b[1;33m)\u001b[0m\u001b[1;33m\u001b[0m\u001b[1;33m\u001b[0m\u001b[0m\n\u001b[0;32m     17\u001b[0m     \u001b[1;32mif\u001b[0m \u001b[1;32mnot\u001b[0m \u001b[0misinstance\u001b[0m\u001b[1;33m(\u001b[0m\u001b[0my\u001b[0m\u001b[1;33m,\u001b[0m \u001b[0mnp\u001b[0m\u001b[1;33m.\u001b[0m\u001b[0mndarray\u001b[0m\u001b[1;33m)\u001b[0m\u001b[1;33m:\u001b[0m\u001b[1;33m\u001b[0m\u001b[1;33m\u001b[0m\u001b[0m\n\u001b[1;32m---> 18\u001b[1;33m         \u001b[1;32mraise\u001b[0m \u001b[0mValueError\u001b[0m\u001b[1;33m(\u001b[0m\u001b[1;34m'y must be a NumPy array. Found %s'\u001b[0m \u001b[1;33m%\u001b[0m \u001b[0mtype\u001b[0m\u001b[1;33m(\u001b[0m\u001b[0my\u001b[0m\u001b[1;33m)\u001b[0m\u001b[1;33m)\u001b[0m\u001b[1;33m\u001b[0m\u001b[1;33m\u001b[0m\u001b[0m\n\u001b[0m\u001b[0;32m     19\u001b[0m \u001b[1;33m\u001b[0m\u001b[0m\n\u001b[0;32m     20\u001b[0m     \u001b[1;32mif\u001b[0m \u001b[1;34m'int'\u001b[0m \u001b[1;32mnot\u001b[0m \u001b[1;32min\u001b[0m \u001b[0mstr\u001b[0m\u001b[1;33m(\u001b[0m\u001b[0my\u001b[0m\u001b[1;33m.\u001b[0m\u001b[0mdtype\u001b[0m\u001b[1;33m)\u001b[0m\u001b[1;33m:\u001b[0m\u001b[1;33m\u001b[0m\u001b[1;33m\u001b[0m\u001b[0m\n",
            "\u001b[1;31mValueError\u001b[0m: y must be a NumPy array. Found <class 'pandas.core.series.Series'>"
          ]
        }
      ],
      "source": [
        "# 主成分分析法（只有标准化后用）+ 逻辑回归分类\n",
        "from sklearn.linear_model import LogisticRegression\n",
        "from sklearn.decomposition import PCA\n",
        "from mlxtend.plotting import plot_decision_regions\n",
        "\n",
        "pca = PCA(n_components=2) # 保留2个主成分\n",
        "X_train_pca = pca.fit_transform(X_train_std)\n",
        "X_test_pca = pca.transform(X_test_std)\n",
        "\n",
        "lr = LogisticRegression()\n",
        "lr.fit(X_train_pca, y_train)\n",
        "acc = lr.score(X_test_pca, y_test) # 返回预测准确度accuracy\n",
        "print(\"准确度为:\",acc)\n",
        "\n",
        "plot_decision_regions(X_train_pca, y_train, clf=lr)# classifier\n",
        "plt.xlabel('PC1')\n",
        "plt.ylabel('PC2')\n",
        "plt.legend(loc='lower left')\n",
        "plt.show()"
      ]
    },
    {
      "cell_type": "markdown",
      "id": "3a2bd5d5",
      "metadata": {
        "id": "3a2bd5d5"
      },
      "source": [
        "[贝叶斯分类器](https://blog.csdn.net/qq_43498798/article/details/116002068?ops_request_misc=%257B%2522request%255Fid%2522%253A%2522165060388616782246468094%2522%252C%2522scm%2522%253A%252220140713.130102334.pc%255Fall.%2522%257D&request_id=165060388616782246468094&biz_id=0&utm_medium=distribute.pc_search_result.none-task-blog-2~all~first_rank_ecpm_v1~rank_v31_ecpm-1-116002068.142^v9^pc_search_result_control_group,157^v4^control&utm_term=%E5%AF%B9%E7%BA%A2%E9%85%92%E6%95%B0%E6%8D%AE%E9%9B%86%E8%BF%9B%E8%A1%8C%E7%89%B9%E5%BE%81%E7%BC%A9%E6%94%BE&spm=1018.2226.3001.4187)"
      ]
    },
    {
      "cell_type": "code",
      "execution_count": null,
      "id": "6ac2ba4f",
      "metadata": {
        "id": "6ac2ba4f"
      },
      "outputs": [],
      "source": []
    }
  ],
  "metadata": {
    "kernelspec": {
      "display_name": "Python 3",
      "language": "python",
      "name": "python3"
    },
    "language_info": {
      "codemirror_mode": {
        "name": "ipython",
        "version": 3
      },
      "file_extension": ".py",
      "mimetype": "text/x-python",
      "name": "python",
      "nbconvert_exporter": "python",
      "pygments_lexer": "ipython3",
      "version": "3.8.8"
    },
    "colab": {
      "provenance": [],
      "include_colab_link": true
    }
  },
  "nbformat": 4,
  "nbformat_minor": 5
}